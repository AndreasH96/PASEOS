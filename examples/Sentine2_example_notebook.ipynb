{
 "cells": [
  {
   "cell_type": "code",
   "execution_count": null,
   "id": "33e7c0be",
   "metadata": {},
   "outputs": [],
   "source": [
    "import sys \n",
    "sys.path.insert(1, \"..\")\n",
    "from paseos import ActorBuilder, SpacecraftActor\n",
    "import pykep as pk\n",
    "import numpy as np\n",
    "import paseos\n",
    "from paseos.visualization.space_animation import SpaceAnimation\n",
    "from paseos.utils.set_log_level import set_log_level\n",
    "from paseos.utils.load_default_cfg import load_default_cfg\n",
    "set_log_level(\"INFO\")\n",
    "%load_ext autoreload\n",
    "%autoreload 2"
   ]
  },
  {
   "cell_type": "code",
   "execution_count": null,
   "id": "c0edb116",
   "metadata": {},
   "outputs": [],
   "source": [
    "# Define central body\n",
    "earth = pk.planet.jpl_lp(\"earth\")\n",
    "#Define today (27-10-22)\n",
    "today = pk.epoch(8335.5,\"mjd2000\")"
   ]
  },
  {
   "cell_type": "markdown",
   "id": "b18ff9c8",
   "metadata": {},
   "source": [
    "## 1) - Instantiate Sentinel2-A and Sentinel2-B space actors."
   ]
  },
  {
   "cell_type": "markdown",
   "id": "44966cc7",
   "metadata": {},
   "source": [
    "First, we can build the `scaffold`for  **Sentinel2-A** (S2A) and **Sentinel2-B** (S2B)."
   ]
  },
  {
   "cell_type": "code",
   "execution_count": null,
   "id": "b8a3f877",
   "metadata": {},
   "outputs": [],
   "source": [
    "# Define local actor\n",
    "S2A = ActorBuilder.get_actor_scaffold(\n",
    "    \"Sentinel2-A\", SpacecraftActor, [0,0,0], today\n",
    ")\n",
    "\n",
    "# Define local actor\n",
    "S2B = ActorBuilder.get_actor_scaffold(\n",
    "    \"Sentinel2-B\", SpacecraftActor, [0,0,0], today\n",
    ")"
   ]
  },
  {
   "cell_type": "markdown",
   "id": "d516c012",
   "metadata": {},
   "source": [
    "The next step is adding an orbit. To this aim it is possible to use  `Two-Lines Elements (TLEs)` values (27-10-2022) to calculate **Sentinel2-A** and **Sentinel2-B** ephemerides."
   ]
  },
  {
   "cell_type": "code",
   "execution_count": null,
   "id": "f767811c",
   "metadata": {},
   "outputs": [],
   "source": [
    "sentinel2A_line1 = \"1 40697U 15028A   22300.01175178 -.00001065  00000+0 -38995-3 0  9999\"\n",
    "sentinel2A_line2 = \"2 40697  98.5650  12.8880 0001080  78.8662 281.2690 14.30806819383668\"\n",
    "sentinel2A = pk.planet.tle(sentinel2A_line1, sentinel2A_line2)\n",
    "\n",
    "#Calculating S2A ephemerides.\n",
    "sentinel2A_eph=sentinel2A.eph(today)\n",
    "\n",
    "sentinel2B_line1 = \"1 42063U 17013A   22300.18652110  .00000099  00000+0  54271-4 0  9998\"\n",
    "sentinel2B_line2 = \"2 42063  98.5693  13.0364 0001083 104.3232 255.8080 14.30819357294601\"\n",
    "sentinel2B = pk.planet.tle(sentinel2B_line1, sentinel2B_line2)\n",
    "\n",
    "#Calculating S2B ephemerides.\n",
    "sentinel2B_eph=sentinel2B.eph(today)"
   ]
  },
  {
   "cell_type": "markdown",
   "id": "a1727f44",
   "metadata": {},
   "source": [
    "Now it is possible to use the ephemerides values to build the S2A and S2B `space actors`."
   ]
  },
  {
   "cell_type": "code",
   "execution_count": null,
   "id": "22265e07",
   "metadata": {},
   "outputs": [],
   "source": [
    "#Adding orbits around Earth based on previously calculated ephemerides\n",
    "ActorBuilder.set_orbit(S2A, sentinel2A_eph[0], sentinel2A_eph[1], today, earth)\n",
    "ActorBuilder.set_orbit(S2B, sentinel2B_eph[0], sentinel2B_eph[1], today, earth)"
   ]
  },
  {
   "cell_type": "markdown",
   "id": "c8623b63",
   "metadata": {},
   "source": [
    "It is now possible to add `Power devices` and `Communication devices` for both the satellites. In this case, we assume `S2A` ans `S2B` to be equipped with an `Inter-Satellite-Link (ISL)` to enable their communication. <br> Since in this simulation `S2A` is the `local_actor`, we add these devices only for it."
   ]
  },
  {
   "cell_type": "code",
   "execution_count": null,
   "id": "a0a275ff",
   "metadata": {},
   "outputs": [],
   "source": [
    "#Adding power devices\n",
    "ActorBuilder.set_power_devices(S2A, 500, 10000, 1)\n",
    "#Adding communication devices.\n",
    "ActorBuilder.add_comm_device(S2A, \"isl_transmitter\", 10000)"
   ]
  },
  {
   "cell_type": "markdown",
   "id": "d1362daa",
   "metadata": {},
   "source": [
    "Plotting `S2A` and `S2B` in their orbit around Earth. As you can see, `S2A` and `S2B` are not in line of sight and they are in opposite phase inside the orbit to maximize the Earth coverage. Despite that, this will prevent them from communicating."
   ]
  },
  {
   "cell_type": "code",
   "execution_count": null,
   "id": "82478585",
   "metadata": {},
   "outputs": [],
   "source": [
    "#Creating Earth model\n",
    "u, v = np.mgrid[0:2 * np.pi:30j, 0:np.pi:20j]\n",
    "x = pk.EARTH_RADIUS * np.cos(u) * np.sin(v)\n",
    "y = pk.EARTH_RADIUS * np.sin(u) * np.sin(v)\n",
    "z = pk.EARTH_RADIUS * np.cos(v)\n",
    "# Plotting S2A and S2B orbit around Earth.\n",
    "import matplotlib.pyplot as plt\n",
    "ax=pk.orbit_plots.plot_planet(S2A._orbital_parameters, today, color=\"r\",legend=(\"S2A\",\"\"))\n",
    "pk.orbit_plots.plot_planet(S2B._orbital_parameters, today,color=\"b\",legend=(\"S2B\",\"\"), axes=ax)\n",
    "ax.plot_surface(x, y, z, cmap=plt.cm.YlGnBu_r, alpha=0.4)"
   ]
  },
  {
   "cell_type": "markdown",
   "id": "018fbfc3",
   "metadata": {},
   "source": [
    "## 2) - Initialize PASEOS simulation"
   ]
  },
  {
   "cell_type": "code",
   "execution_count": null,
   "id": "bd2aafd9",
   "metadata": {},
   "outputs": [],
   "source": [
    "# init simulation\n",
    "cfg=load_default_cfg()\n",
    "cfg.sim.start_time=today.mjd2000 * pk.DAY2SEC\n",
    "sim = paseos.init_sim(S2A, cfg)"
   ]
  },
  {
   "cell_type": "code",
   "execution_count": null,
   "id": "7bf61e8d",
   "metadata": {},
   "outputs": [],
   "source": [
    "sim.add_known_actor(S2B)"
   ]
  },
  {
   "cell_type": "code",
   "execution_count": null,
   "id": "76bbeaaa",
   "metadata": {},
   "outputs": [],
   "source": [
    "anim = SpaceAnimation(sim)"
   ]
  },
  {
   "cell_type": "code",
   "execution_count": null,
   "id": "236ef54f",
   "metadata": {},
   "outputs": [],
   "source": [
    "anim = SpaceAnimation(sim)\n",
    "import matplotlib.pyplot as plt\n",
    "dt = 100\n",
    "for t in range(100):\n",
    "    anim.animate(sim, dt)\n",
    "    plt.pause(0.05)\n",
    "plt.show()"
   ]
  },
  {
   "cell_type": "code",
   "execution_count": null,
   "id": "a74ee300",
   "metadata": {},
   "outputs": [],
   "source": []
  }
 ],
 "metadata": {
  "kernelspec": {
   "display_name": "paseos",
   "language": "python",
   "name": "paseos"
  },
  "language_info": {
   "codemirror_mode": {
    "name": "ipython",
    "version": 3
   },
   "file_extension": ".py",
   "mimetype": "text/x-python",
   "name": "python",
   "nbconvert_exporter": "python",
   "pygments_lexer": "ipython3",
   "version": "3.10.6"
  }
 },
 "nbformat": 4,
 "nbformat_minor": 5
}
