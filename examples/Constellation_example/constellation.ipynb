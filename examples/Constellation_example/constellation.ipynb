{
 "cells": [
  {
   "cell_type": "code",
   "execution_count": null,
   "metadata": {},
   "outputs": [],
   "source": [
    "%load_ext autoreload\n",
    "%autoreload 2\n",
    "import matplotlib.pyplot as plt\n",
    "%matplotlib inline\n",
    "import sys \n",
    "sys.path.append(\"../..\")\n",
    "\n",
    "import pykep as pk\n",
    "import paseos\n",
    "from paseos import ActorBuilder, SpacecraftActor, GroundstationActor\n",
    "from paseos.utils.load_default_cfg import load_default_cfg\n",
    "import asyncio\n",
    "paseos.set_log_level(\"INFO\")"
   ]
  },
  {
   "cell_type": "code",
   "execution_count": null,
   "metadata": {},
   "outputs": [],
   "source": [
    "from get_constellation import get_constellation\n",
    "altitude = 400 * 1000\n",
    "inclination = 40.0\n",
    "nPlanes = 1\n",
    "nSats = 2\n",
    "t0 = pk.epoch(0)\n",
    "\n",
    "planet_list,sats_pos_and_v = get_constellation(altitude,inclination,nSats,nPlanes,t0)\n",
    "comms_sat,comm_sat_pos_and_v = get_constellation(30000*1000,0,1,1,t0)"
   ]
  },
  {
   "cell_type": "code",
   "execution_count": null,
   "metadata": {},
   "outputs": [],
   "source": [
    "fig = plt.figure(figsize=(6,6),dpi=100)\n",
    "ax = plt.axes(projection='3d')\n",
    "for i in range (nPlanes*nSats):\n",
    "    pk.orbit_plots.plot_planet(planet_list[i],axes=ax,s=64)\n",
    "pk.orbit_plots.plot_planet(comms_sat[0],axes=ax,s=64)"
   ]
  },
  {
   "cell_type": "code",
   "execution_count": null,
   "metadata": {},
   "outputs": [],
   "source": [
    "paseos_instances = []\n",
    "earth = pk.planet.jpl_lp(\"earth\")\n",
    "for idx,sat_pos_v in enumerate(sats_pos_and_v):\n",
    "    pos,v = sat_pos_v\n",
    "    sat_actor = ActorBuilder.get_actor_scaffold(name=\"Sat_\"+str(idx),\n",
    "                                                actor_type=SpacecraftActor,\n",
    "                                                epoch=t0)\n",
    "    ActorBuilder.set_orbit(actor=sat_actor,position=pos,velocity=v,epoch=t0,central_body=earth)\n",
    "    ActorBuilder.add_comm_device(actor=sat_actor,device_name=\"Link1\",bandwidth_in_kbps=1000)\n",
    "    ActorBuilder.set_power_devices(actor=sat_actor,battery_level_in_Ws=50000,\n",
    "                                   max_battery_level_in_Ws=100000,charging_rate_in_W=50)\n",
    "    ActorBuilder.set_thermal_model(\n",
    "            actor=sat_actor,\n",
    "            actor_mass=50.0,\n",
    "            actor_initial_temperature_in_K=273.15,\n",
    "            actor_sun_absorptance=1.0,\n",
    "            actor_infrared_absorptance=1.0,\n",
    "            actor_sun_facing_area=1.0,\n",
    "            actor_central_body_facing_area=1.0,\n",
    "            actor_emissive_area=3.0,\n",
    "            actor_thermal_capacity=1000\n",
    "    )\n",
    "    \n",
    "    instance = paseos.init_sim(local_actor=sat_actor)\n",
    "    paseos_instances.append(instance)"
   ]
  },
  {
   "cell_type": "code",
   "execution_count": null,
   "metadata": {},
   "outputs": [],
   "source": [
    "comms_instances = []\n",
    "\n",
    "gs_actor = ActorBuilder.get_actor_scaffold(name=\"gs_1\",actor_type=GroundstationActor, epoch=t0)\n",
    "ActorBuilder.set_ground_station_location(gs_actor,latitude=30,longitude=30,elevation=0)\n",
    "instance = paseos.init_sim(local_actor=gs_actor)\n",
    "comms_instances.append(instance)\n",
    "\n",
    "pos,v = comm_sat_pos_and_v[0]\n",
    "sat_actor = ActorBuilder.get_actor_scaffold(name=\"comms_1\",actor_type=SpacecraftActor, epoch=t0)\n",
    "ActorBuilder.set_orbit(actor=sat_actor,position=pos,velocity=v,epoch=t0,central_body=earth)\n",
    "ActorBuilder.add_comm_device(actor=sat_actor,device_name=\"Link1\",bandwidth_in_kbps=1000)    \n",
    "instance = paseos.init_sim(local_actor=sat_actor)\n",
    "comms_instances.append(instance)"
   ]
  },
  {
   "cell_type": "code",
   "execution_count": null,
   "metadata": {},
   "outputs": [],
   "source": [
    "def get_consumption_and_activity(instance):\n",
    "    \"\"\"Determine power consumption of the instance\"\"\"\n",
    "    if operational_constraint(instance):\n",
    "        return 50.0,\"Processing\"\n",
    "    else: \n",
    "        return 2.0, \"Charging\"\n",
    "\n",
    "def operational_constraint(instance):\n",
    "    if (instance.local_actor.state_of_charge > 0.2 \n",
    "        and instance.local_actor.temperature_in_K < 350):\n",
    "        return True\n",
    "    else:\n",
    "        return False"
   ]
  },
  {
   "cell_type": "code",
   "execution_count": null,
   "metadata": {},
   "outputs": [],
   "source": []
  },
  {
   "cell_type": "code",
   "execution_count": null,
   "metadata": {},
   "outputs": [],
   "source": [
    "simulation_time = 24.0 * 3600 # one day in seconds\n",
    "t = 0\n",
    "timestep = 600 # 1min\n",
    "while t < simulation_time: \n",
    "    # For each satellite\n",
    "    N_charging = 0\n",
    "    N_processing = 0\n",
    "    for instance in paseos_instances:\n",
    "        local_t = instance.local_actor.local_time\n",
    "        # Update known actors, i.e. for each sat if they can\n",
    "        # see the ground station and the comms satellite\n",
    "        instance.emtpy_known_actors()\n",
    "        for comm_instance in comms_instances:\n",
    "            if instance.local_actor.is_in_line_of_sight(comm_instance.local_actor,epoch=local_t):\n",
    "                instance.add_known_actor(comm_instance.local_actor)\n",
    "        \n",
    "        # Determine whether satellite is performing activity\n",
    "        power_consumption, activity = get_consumption_and_activity(instance)\n",
    "        if activity == \"Processing\":\n",
    "            N_processing += 1\n",
    "            eval_constraint = lambda: operational_constraint(instance)\n",
    "        else:\n",
    "            N_charging += 1\n",
    "            eval_constraint = None\n",
    "        instance.local_actor._current_activity = activity\n",
    "        instance.advance_time(\n",
    "            time_to_advance=timestep,\n",
    "            current_power_consumption_in_W=power_consumption,\n",
    "            constraint_function=eval_constraint\n",
    "        )\n",
    "\n",
    "    for instance in comms_instances:\n",
    "        instance.advance_time(time_to_advance=timestep,current_power_consumption_in_W=0.0)\n",
    "\n",
    "    print(f\"Time:{t} - # of Processing = {N_processing}, # of Charging = {N_charging}\")\n",
    "    t += timestep"
   ]
  },
  {
   "cell_type": "code",
   "execution_count": null,
   "metadata": {},
   "outputs": [],
   "source": [
    "def convert_known_actors_to_categorical(values):\n",
    "    conv_values = []\n",
    "    for val in values:\n",
    "        status = [\"No signal\", \"Ground only\", \"CommSat only\", \"Ground + Sat\"]\n",
    "        idx = (\"comms_1\" in val) * 2 + 1*(\"gs_1\" in val)\n",
    "        conv_values.append(status[idx])\n",
    "    return conv_values"
   ]
  },
  {
   "cell_type": "code",
   "execution_count": null,
   "metadata": {},
   "outputs": [],
   "source": [
    "quantities = [\"temperature\",\"state_of_charge\",\"current_activity\",\"known_actors\"]\n",
    "for item in quantities:\n",
    "    names = []\n",
    "    plt.figure(figsize=(8, 2),dpi=150)\n",
    "    for instance in paseos_instances:\n",
    "        timesteps = instance.monitor[\"timesteps\"]\n",
    "        if item == \"known_actors\":\n",
    "            values = convert_known_actors_to_categorical(instance.monitor[item])\n",
    "        else:\n",
    "            values = instance.monitor[item]\n",
    "        names.append(instance.local_actor.name)\n",
    "        plt.plot(timesteps,values)\n",
    "        plt.xlabel(\"Time [s]\")\n",
    "        plt.ylabel(item.replace(\"_\", \" \"))\n",
    "    plt.legend(\n",
    "            names,\n",
    "            fontsize = 8,\n",
    "            bbox_to_anchor=(0.5, 1.4),\n",
    "            ncol=10,\n",
    "            loc=\"upper center\",\n",
    "    )\n"
   ]
  },
  {
   "cell_type": "code",
   "execution_count": null,
   "metadata": {},
   "outputs": [],
   "source": []
  }
 ],
 "metadata": {
  "kernelspec": {
   "display_name": "Python 3.10.6 ('paseos')",
   "language": "python",
   "name": "python3"
  },
  "language_info": {
   "codemirror_mode": {
    "name": "ipython",
    "version": 3
   },
   "file_extension": ".py",
   "mimetype": "text/x-python",
   "name": "python",
   "nbconvert_exporter": "python",
   "pygments_lexer": "ipython3",
   "version": "3.10.6"
  },
  "orig_nbformat": 4,
  "vscode": {
   "interpreter": {
    "hash": "cec805858b69cacb2b7ad611a1d16c309b9d5c2fd3283013a8f0cd0423ba3fc5"
   }
  }
 },
 "nbformat": 4,
 "nbformat_minor": 2
}
