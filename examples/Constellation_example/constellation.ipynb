{
 "cells": [
  {
   "cell_type": "markdown",
   "metadata": {},
   "source": [
    "# Event-based Constellation Example\n",
    "\n",
    "This notebook illustrates how to run many PASEOS instances in parellel to model a constellation in low-Earth orbit (LEO). \n",
    "\n",
    "First, let's import all necessary modules\n",
    "\n",
    "In addition to PASEOS's requirements this notebook uses seaborn and pandas. `conda install seaborn` or `pip install seaborn` will get it. (analogously for pandas)"
   ]
  },
  {
   "cell_type": "code",
   "execution_count": 1,
   "metadata": {},
   "outputs": [
    {
     "name": "stderr",
     "output_type": "stream",
     "text": [
      "\u001b[32m10:48:33\u001b[0m|PASEOS-\u001b[34mDEBUG\u001b[0m| \u001b[34m\u001b[1mSetting LogLevel to DEBUG\u001b[0m\n",
      "\u001b[32m10:48:33\u001b[0m|PASEOS-\u001b[34mDEBUG\u001b[0m| \u001b[34m\u001b[1mLoaded module.\u001b[0m\n"
     ]
    }
   ],
   "source": [
    "%load_ext autoreload\n",
    "%autoreload 2\n",
    "import matplotlib.pyplot as plt\n",
    "import seaborn as sns\n",
    "import pandas as pd\n",
    "import sys \n",
    "sys.path.append(\"../..\")\n",
    "\n",
    "import warnings\n",
    "warnings.filterwarnings(\"ignore\")\n",
    "\n",
    "import pykep as pk\n",
    "import numpy as np\n",
    "import paseos\n",
    "from paseos import ActorBuilder, SpacecraftActor, GroundstationActor\n",
    "paseos.set_log_level(\"WARNING\") # use info / debug if you want more insight"
   ]
  },
  {
   "cell_type": "markdown",
   "metadata": {},
   "source": [
    "### Constellation setup\n",
    "\n",
    "In addition to the code in this notebook, we use a simple function that automatically computes the orbits of a [Walker Constellation](https://en.wikipedia.org/wiki/Satellite_constellation#Walker_Constellation) for us. It allows us to only specify a few parameters to get started.\n",
    "\n",
    "For illustrative purposes our constellation will consist of 16 satellites in LEO and one communication satellite in GEO. Feel free to change the numbers to try out different setups."
   ]
  },
  {
   "cell_type": "code",
   "execution_count": 2,
   "metadata": {},
   "outputs": [
    {
     "name": "stdout",
     "output_type": "stream",
     "text": [
      "Created 16 satellites...\n",
      "Computing constellation's positions and velocities...\n",
      "Done!\n"
     ]
    },
    {
     "ename": "ZeroDivisionError",
     "evalue": "float division by zero",
     "output_type": "error",
     "traceback": [
      "\u001b[1;31m---------------------------------------------------------------------------\u001b[0m",
      "\u001b[1;31mZeroDivisionError\u001b[0m                         Traceback (most recent call last)",
      "Cell \u001b[1;32mIn [2], line 14\u001b[0m\n\u001b[0;32m     12\u001b[0m altitude_geo \u001b[39m=\u001b[39m \u001b[39m35786\u001b[39m\u001b[39m*\u001b[39m\u001b[39m1000\u001b[39m\n\u001b[0;32m     13\u001b[0m inclination_geo,n_Planes_geo,nSats_geo \u001b[39m=\u001b[39m \u001b[39m0\u001b[39m,\u001b[39m0\u001b[39m,\u001b[39m1\u001b[39m\n\u001b[1;32m---> 14\u001b[0m comms_sat,comm_sat_pos_and_v,_ \u001b[39m=\u001b[39m get_constellation(altitude_geo,inclination_geo,n_Planes_geo,nSats_geo,t0)\n",
      "File \u001b[1;32md:\\Arbeit\\Code\\PASEOS\\examples\\Constellation_example\\get_constellation.py:58\u001b[0m, in \u001b[0;36mget_constellation\u001b[1;34m(altitude, inclination, nSats, nPlanes, t0)\u001b[0m\n\u001b[0;32m     55\u001b[0m safe_radius \u001b[39m=\u001b[39m \u001b[39m1\u001b[39m\n\u001b[0;32m     57\u001b[0m pStep \u001b[39m=\u001b[39m pk\u001b[39m.\u001b[39mDEG2RAD \u001b[39m*\u001b[39m W_area \u001b[39m/\u001b[39m nPlanes  \u001b[39m# W goes from startingW to startingW+W_area\u001b[39;00m\n\u001b[1;32m---> 58\u001b[0m sStep \u001b[39m=\u001b[39m \u001b[39m2\u001b[39;49m \u001b[39m*\u001b[39;49m np\u001b[39m.\u001b[39;49mpi \u001b[39m/\u001b[39;49m nSats  \u001b[39m# M goes from 0° to 360°\u001b[39;00m\n\u001b[0;32m     59\u001b[0m sExtraStep \u001b[39m=\u001b[39m pk\u001b[39m.\u001b[39mDEG2RAD \u001b[39m*\u001b[39m offsetM\n\u001b[0;32m     61\u001b[0m \u001b[39m# We use pykep planets, see https://esa.github.io/pykep/documentation/planets.html\u001b[39;00m\n",
      "\u001b[1;31mZeroDivisionError\u001b[0m: float division by zero"
     ]
    }
   ],
   "source": [
    "from get_constellation import get_constellation\n",
    "altitude = 550 * 1000 # Constellation attitude above the Earth's ground\n",
    "inclination = 10.0 # inclination of each orbital plane\n",
    "nPlanes = 4 # the number of orbital planes (see linked wiki article)\n",
    "nSats = 4 # the number of satellites per orbital plane\n",
    "t0 = pk.epoch_from_string(\"2023-Jan-04 20:00:00\") # the starting date of our simulation\n",
    "\n",
    "# Compute orbits of LEO satellites\n",
    "planet_list,sats_pos_and_v,orbital_period = get_constellation(altitude,inclination,nSats,nPlanes,t0)\n",
    "\n",
    "# Compute orbit of GEO communications satellite\n",
    "altitude_geo = 35786*1000\n",
    "inclination_geo,n_Planes_geo,nSats_geo = 0,1,1\n",
    "comms_sat,comm_sat_pos_and_v,_ = get_constellation(altitude_geo,inclination_geo,n_Planes_geo,nSats_geo,t0)"
   ]
  },
  {
   "cell_type": "markdown",
   "metadata": {},
   "source": [
    "Let's briefly plot our satellite orbits for illustrative purposes. We use [pykep's plotting features](https://esa.github.io/pykep/documentation/orbitplots.html) for that.\n",
    "\n",
    "Note that angles aren't to scale in pykep plots."
   ]
  },
  {
   "cell_type": "code",
   "execution_count": null,
   "metadata": {},
   "outputs": [],
   "source": [
    "fig = plt.figure(figsize=(6,6),dpi=100)\n",
    "ax = plt.axes(projection='3d')\n",
    "colors = sns.color_palette(\"Paired\")\n",
    "for i in range (nPlanes*nSats):\n",
    "    color_idx = i // nPlanes\n",
    "    pk.orbit_plots.plot_planet(planet_list[i],axes=ax,s=64,color=colors[color_idx])\n",
    "# pk.orbit_plots.plot_planet(comms_sat[0],axes=ax,s=64)"
   ]
  },
  {
   "cell_type": "markdown",
   "metadata": {},
   "source": [
    "### PASEOS Setup\n",
    "\n",
    "Now we will create a PASEOS instance for each LEO satellite. Further, we add a communication device, power device and a thermal model.\n",
    "\n",
    "Pleae have a look at the [readme sections on physical models](https://github.com/aidotse/PASEOS#physical-models) for additional details."
   ]
  },
  {
   "cell_type": "code",
   "execution_count": null,
   "metadata": {},
   "outputs": [],
   "source": [
    "paseos_instances = [] # this will store paseos instances\n",
    "earth = pk.planet.jpl_lp(\"earth\") # define our central body\n",
    "\n",
    "for idx,sat_pos_v in enumerate(sats_pos_and_v):\n",
    "    pos,v = sat_pos_v\n",
    "    sat_actor = ActorBuilder.get_actor_scaffold(name=\"Sat_\"+str(idx),\n",
    "                                                actor_type=SpacecraftActor,\n",
    "                                                epoch=t0)\n",
    "    ActorBuilder.set_orbit(actor=sat_actor,position=pos,velocity=v,epoch=t0,central_body=earth)\n",
    "    ActorBuilder.add_comm_device(actor=sat_actor,device_name=\"Link1\",bandwidth_in_kbps=1000)\n",
    "    ActorBuilder.set_power_devices(actor=sat_actor,battery_level_in_Ws=10000+np.random.rand()*90000,\n",
    "                                   max_battery_level_in_Ws=100000,charging_rate_in_W=50)\n",
    "    ActorBuilder.set_thermal_model(\n",
    "            actor=sat_actor,\n",
    "            actor_mass=50.0,\n",
    "            actor_initial_temperature_in_K=273.15,\n",
    "            actor_sun_absorptance=1.0,\n",
    "            actor_infrared_absorptance=1.0,\n",
    "            actor_sun_facing_area=2.0,\n",
    "            actor_central_body_facing_area=2.0,\n",
    "            actor_emissive_area=4.0,\n",
    "            actor_thermal_capacity=1000\n",
    "    )\n",
    "    \n",
    "    instance = paseos.init_sim(local_actor=sat_actor)\n",
    "    paseos_instances.append(instance)"
   ]
  },
  {
   "cell_type": "markdown",
   "metadata": {},
   "source": [
    "For our comms satellite, we skip modelling the thermal and power concerns for simplicity. Further, we add a groundstation on Gran Canaria."
   ]
  },
  {
   "cell_type": "code",
   "execution_count": null,
   "metadata": {},
   "outputs": [],
   "source": [
    "comms_instances = []\n",
    "\n",
    "gs_actor = ActorBuilder.get_actor_scaffold(name=\"gs_1\",actor_type=GroundstationActor, epoch=t0)\n",
    "ActorBuilder.set_ground_station_location(gs_actor,latitude=27.7629, longitude=-15.6338, elevation=205.1, minimum_altitude_angle=5)\n",
    "instance = paseos.init_sim(local_actor=gs_actor)\n",
    "comms_instances.append(instance)\n",
    "\n",
    "pos,v = comm_sat_pos_and_v[0]\n",
    "sat_actor = ActorBuilder.get_actor_scaffold(name=\"comms_1\",actor_type=SpacecraftActor, epoch=t0)\n",
    "ActorBuilder.set_orbit(actor=sat_actor,position=pos,velocity=v,epoch=t0,central_body=earth)\n",
    "ActorBuilder.add_comm_device(actor=sat_actor,device_name=\"Link1\",bandwidth_in_kbps=1000)    \n",
    "instance = paseos.init_sim(local_actor=sat_actor)\n",
    "comms_instances.append(instance)"
   ]
  },
  {
   "cell_type": "markdown",
   "metadata": {},
   "source": [
    "We can use PASEOS internal plotting to have a look at our setup now. As of writing the plotting isn't ideal for larger constellations ¯\\_(ツ)_/¯"
   ]
  },
  {
   "cell_type": "code",
   "execution_count": null,
   "metadata": {},
   "outputs": [],
   "source": [
    "paseos_instances[0].emtpy_known_actors()\n",
    "for instance in paseos_instances[1:]:\n",
    "    paseos_instances[0].add_known_actor(instance.local_actor)\n",
    "for instance in comms_instances:\n",
    "    paseos_instances[0].add_known_actor(instance.local_actor)\n",
    "plotter = paseos.plot(paseos_instances[0], paseos.PlotType.SpacePlot)"
   ]
  },
  {
   "attachments": {},
   "cell_type": "markdown",
   "metadata": {},
   "source": [
    "Now, we define some operational constraints for our constellation. Let's say our LEO satellites have two tasks:\n",
    "\n",
    "* Processing - Consumes 100W and can only be performed at < 56.85° C and if our battery is at least 20% charged.\n",
    "* Charging - What we do if the above constraint is violated (costs 2W)\n",
    "\n",
    "To this end, we define a function that returns `True` if the constraint is met."
   ]
  },
  {
   "cell_type": "code",
   "execution_count": null,
   "metadata": {},
   "outputs": [],
   "source": [
    "def get_consumption_and_activity(actor):\n",
    "    \"\"\"Determine power consumption and activity for an actor.\"\"\"\n",
    "    if operational_constraint(actor):\n",
    "        # Power consumption for processing is 100W\n",
    "        return 100.0,\"Processing\"\n",
    "    else: \n",
    "        # Power consumption for charging is 2W\n",
    "        return 2.0, \"Charging\"\n",
    "\n",
    "def operational_constraint(actor):\n",
    "    \"\"\"Determine if constraint is met for an actor\"\"\"\n",
    "    if (actor.state_of_charge > 0.2 \n",
    "        and actor.temperature_in_K < 330):\n",
    "        return True\n",
    "    else:\n",
    "        return False"
   ]
  },
  {
   "cell_type": "markdown",
   "metadata": {},
   "source": [
    "### Running the simulation\n",
    "\n",
    "Now, we are ready to run the main simulation. We will simulate the operations of this constellation for 8 hours. Every 600 seconds (or once the constraint is no longer valid) we will redecide whether a satellite is going to \"charge\" or \"process\".\n",
    "\n",
    "Whenever a satellite starts violating the operational constraint, it will stop the activity and continue which charging. This is marked by an `INFO` output from PASEOS.\n",
    "\n",
    "If the activity is interrupted due to overheating or lack of battery charge, we continue charging for the remaining time of the 600 second window."
   ]
  },
  {
   "cell_type": "code",
   "execution_count": null,
   "metadata": {},
   "outputs": [],
   "source": [
    "simulation_time = 8.0 * 3600 # one day in seconds\n",
    "t = 0 # starting time in seconds\n",
    "timestep = 600 # how often we decide what each sat should do [s]\n",
    "\n",
    "# Run until end of simulation\n",
    "while t <= simulation_time: \n",
    "    N_charging = 0 # track chargers\n",
    "    N_processing = 0 # track processors\n",
    "    N_interruped = 0 # track which switched due to constraint\n",
    "    # For each satellite, we perform the following steps\n",
    "    for instance in paseos_instances:\n",
    "        local_t = instance.local_actor.local_time\n",
    "        # Update known actors, i.e. for each sat if they can\n",
    "        # see the ground station and the comms satellite\n",
    "        instance.emtpy_known_actors()\n",
    "        for comm_instance in comms_instances:\n",
    "            if instance.local_actor.is_in_line_of_sight(comm_instance.local_actor,epoch=local_t):\n",
    "                instance.add_known_actor(comm_instance.local_actor)\n",
    "        \n",
    "        # Determine whether satellite is processing or charging\n",
    "        power_consumption, activity = get_consumption_and_activity(instance.local_actor)\n",
    "        if activity == \"Processing\":\n",
    "            N_processing += 1\n",
    "            eval_constraint = lambda: operational_constraint(instance.local_actor)\n",
    "        else:\n",
    "            N_charging += 1\n",
    "            eval_constraint = None\n",
    "        \n",
    "        # This call is only necessary to display running activity \n",
    "        # in PASEOS internal monitoring (which we use below)\n",
    "        instance.local_actor._current_activity = activity\n",
    "\n",
    "        # Advance the simulation state of this satellite\n",
    "        # Note how we pass the \"eval_constraint\" to tell paseos to evaluate if the constraint\n",
    "        # for running the \"Processing\" is still satisfied\n",
    "        time_remaining_to_advance = instance.advance_time(\n",
    "            time_to_advance=timestep,\n",
    "            current_power_consumption_in_W=power_consumption,\n",
    "            constraint_function=eval_constraint\n",
    "        )\n",
    "\n",
    "        # If activity was interrupted by constraint violation, proceed charging for remainder\n",
    "        if time_remaining_to_advance > 0:\n",
    "            N_interruped += 1\n",
    "            instance.advance_time(\n",
    "            time_to_advance=time_remaining_to_advance,\n",
    "            current_power_consumption_in_W=2.0,\n",
    "            constraint_function=None\n",
    "        )\n",
    "\n",
    "    # Advance the comm satellite and ground station\n",
    "    for instance in comms_instances:\n",
    "        instance.advance_time(time_to_advance=timestep,current_power_consumption_in_W=0.0)\n",
    "\n",
    "    print(f\"Time: {t}s - # of Processing = {N_processing} ({N_interruped} interrupted), # of Charging = {N_charging}\")\n",
    "    t += timestep"
   ]
  },
  {
   "cell_type": "markdown",
   "metadata": {},
   "source": [
    "### Plotting and Analysis\n",
    "\n",
    "Alright! Now, let's have a look at what actually happened during our simulation.\n",
    "\n",
    "For this, we will make use of [PASEOS' monitor](https://github.com/aidotse/PASEOS#monitor).\n",
    "\n",
    "The below code uses it to extract a few quantities for all our sats and plots them over the course of the simulation for each satellite (each color is one).\n",
    "\n",
    "This will give us a good impression of whether each satellite's operations are sensible.\n",
    "\n",
    "We will also accumulate all the data into a [pandas dataframe](https://pandas.pydata.org/docs/user_guide/10min.html) for convenience."
   ]
  },
  {
   "cell_type": "code",
   "execution_count": null,
   "metadata": {},
   "outputs": [],
   "source": [
    "from constellation_example_utils import get_known_actor_comms_status\n",
    "\n",
    "# Quantities we wanna track\n",
    "quantities = [\"temperature\",\"state_of_charge\",\"current_activity\",\"known_actors\",\"is_in_eclipse\"]\n",
    "\n",
    "# Setup data frame to collect all data\n",
    "df = pd.DataFrame(columns=(\"Time\",\"ID\"))\n",
    "for idx,item in enumerate(quantities):\n",
    "    names = []\n",
    "\n",
    "    # Dataframe for this quantity\n",
    "    small_df = pd.DataFrame(columns=(\"Time\",\"ID\"))\n",
    "    \n",
    "    plt.figure(figsize=(8, 2),dpi=150)\n",
    "\n",
    "    # Get dat afrom all satellites and plot it\n",
    "    for instance in paseos_instances:\n",
    "\n",
    "        # Get time of each data point\n",
    "        timesteps = instance.monitor[\"timesteps\"]\n",
    "\n",
    "        # Get data\n",
    "        if item == \"known_actors\":\n",
    "            values = get_known_actor_comms_status(instance.monitor[item])\n",
    "        else:\n",
    "            values = instance.monitor[item]\n",
    "        names.append(instance.local_actor.name)\n",
    "\n",
    "        # Collect data from this sat into big dataframe\n",
    "        smaller_df = pd.DataFrame({\"Time\": timesteps,\"ID\": len(timesteps)*[instance.local_actor.name],item: values})\n",
    "        if item == \"is_in_eclipse\": #pandas things...\n",
    "            smaller_df[\"is_in_eclipse\"] = smaller_df[\"is_in_eclipse\"].astype(\"boolean\")\n",
    "        small_df = pd.concat([small_df,smaller_df])\n",
    "        \n",
    "        # Plot it :)\n",
    "        plt.plot(timesteps,values)\n",
    "        plt.xlabel(\"Time [s]\")\n",
    "        plt.ylabel(item.replace(\"_\", \" \"))\n",
    "\n",
    "    # Add a legend showing which satellite is which\n",
    "    # plt.legend(\n",
    "    #         names,\n",
    "    #         fontsize = 8,\n",
    "    #         bbox_to_anchor=(0.5, 1.4),\n",
    "    #         ncol=10,\n",
    "    #         loc=\"upper center\",\n",
    "    # )\n",
    "    \n",
    "    df = df.merge(small_df,how=\"right\")"
   ]
  },
  {
   "cell_type": "markdown",
   "metadata": {},
   "source": [
    "### Constellation Analysis\n",
    "\n",
    "Now let's focus on analysing the whole constellation.\n",
    "\n",
    "Let's begin by tracking the total number of satellites that are processing and charging, respectively. Then we will also plot their communication status.\n",
    "\n",
    "We will do some pandas magic in the background to make this easy. The below cell may take a few seconds."
   ]
  },
  {
   "cell_type": "code",
   "execution_count": null,
   "metadata": {},
   "outputs": [],
   "source": [
    "from constellation_example_utils import get_analysis_df\n",
    "N_timesteps = 20\n",
    "df[\"Completed orbits\"] = df.Time / orbital_period\n",
    "analysis_df = get_analysis_df(df,df.Time.max() // N_timesteps,orbital_period)\n",
    "analysis_df.head()"
   ]
  },
  {
   "cell_type": "code",
   "execution_count": null,
   "metadata": {},
   "outputs": [],
   "source": [
    "sns.set(font_scale=1.8)\n",
    "melt_df = analysis_df[[\"Completed orbits\",'Share Processing', 'Share in Eclipse']].melt('Completed orbits', var_name='Status', value_name='Ratio of Satellites')\n",
    "g = sns.catplot(x=\"Completed orbits\", y=\"Ratio of Satellites\", hue='Status', data=melt_df, kind='bar',aspect=2)\n",
    "g.set_xticklabels(rotation=90)"
   ]
  },
  {
   "cell_type": "code",
   "execution_count": null,
   "metadata": {},
   "outputs": [],
   "source": [
    "fig,ax = plt.subplots(figsize=(10,4),dpi=100)\n",
    "subset = [\"Completed orbits\",'# of CommSat only', '# of Ground + Sat','# of No signal']\n",
    "analysis_df[subset].plot(x=\"Completed orbits\",kind='bar', stacked=True,ax=ax,color=sns.color_palette()[0:4])\n",
    "plt.xlabel('Completed orbits')\n",
    "plt.ylabel('Satellites')\n",
    "plt.legend(bbox_to_anchor=(1.025, 1), loc='upper left', borderaxespad=0,frameon=False)"
   ]
  },
  {
   "cell_type": "markdown",
   "metadata": {},
   "source": [
    "Now, let's have a look at operational temperatures and state of charge. We plot the mean and 25%, 50%, 100% percentile intervals (PI) in different colors respectively."
   ]
  },
  {
   "cell_type": "code",
   "execution_count": null,
   "metadata": {},
   "outputs": [],
   "source": [
    "sns.set(rc={'figure.figsize':(12,6)})\n",
    "sns.set(font_scale=1.8)\n",
    "sns.lineplot(data=df,x=\"Completed orbits\",y=\"temperature\",errorbar=(\"pi\",100),estimator=\"median\")\n",
    "sns.lineplot(data=df,x=\"Completed orbits\",y=\"temperature\",errorbar=(\"pi\",50))\n",
    "sns.lineplot(data=df,x=\"Completed orbits\",y=\"temperature\",errorbar=(\"pi\",25))\n",
    "plt.legend([\"Median\",\"100% PI\",\"_\",\"50% PI\",\"Mean\",\"25% PI\",]);\n",
    "plt.ylabel(\"Temperature [K]\")"
   ]
  },
  {
   "cell_type": "code",
   "execution_count": null,
   "metadata": {},
   "outputs": [],
   "source": [
    "sns.lineplot(data=df,x=\"Completed orbits\",y=\"state_of_charge\",errorbar=(\"pi\",100),estimator=\"median\")\n",
    "sns.lineplot(data=df,x=\"Completed orbits\",y=\"state_of_charge\",errorbar=(\"pi\",50))\n",
    "sns.lineplot(data=df,x=\"Completed orbits\",y=\"state_of_charge\",errorbar=(\"pi\",25))\n",
    "plt.legend([\"Median\",\"100% PI\",\"_\",\"50% PI\",\"Mean\",\"25% PI\",]);\n",
    "plt.ylabel(\"State of Charge\")"
   ]
  },
  {
   "cell_type": "code",
   "execution_count": null,
   "metadata": {},
   "outputs": [],
   "source": []
  }
 ],
 "metadata": {
  "kernelspec": {
   "display_name": "Python 3 (ipykernel)",
   "language": "python",
   "name": "python3"
  },
  "language_info": {
   "codemirror_mode": {
    "name": "ipython",
    "version": 3
   },
   "file_extension": ".py",
   "mimetype": "text/x-python",
   "name": "python",
   "nbconvert_exporter": "python",
   "pygments_lexer": "ipython3",
   "version": "3.10.8"
  },
  "vscode": {
   "interpreter": {
    "hash": "457d73575bcd07fce3b582d06bfae9446395c25f1ea618852d5f58e28a465e48"
   }
  }
 },
 "nbformat": 4,
 "nbformat_minor": 2
}
