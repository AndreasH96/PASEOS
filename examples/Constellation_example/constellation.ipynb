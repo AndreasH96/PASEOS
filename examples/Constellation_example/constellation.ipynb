{
 "cells": [
  {
   "cell_type": "code",
   "execution_count": null,
   "metadata": {},
   "outputs": [],
   "source": [
    "%load_ext autoreload\n",
    "%autoreload 2\n",
    "import matplotlib.pyplot as plt\n",
    "%matplotlib inline\n",
    "import sys \n",
    "sys.path.append(\"../..\")\n",
    "\n",
    "import pykep as pk\n",
    "import paseos\n",
    "from paseos import ActorBuilder, SpacecraftActor\n",
    "from paseos.utils.load_default_cfg import load_default_cfg\n",
    "import asyncio\n",
    "paseos.set_log_level(\"INFO\")"
   ]
  },
  {
   "cell_type": "code",
   "execution_count": null,
   "metadata": {},
   "outputs": [],
   "source": [
    "from get_constellation import get_constellation\n",
    "altitude = 400 * 1000\n",
    "inclination = 40.0\n",
    "nPlanes = 2\n",
    "nSats = 1\n",
    "t0 = pk.epoch(0)\n",
    "\n",
    "planet_list,sats_pos_and_v = get_constellation(altitude,inclination,nSats,nPlanes,t0)"
   ]
  },
  {
   "cell_type": "code",
   "execution_count": null,
   "metadata": {},
   "outputs": [],
   "source": [
    "fig = plt.figure(figsize=(6,6),dpi=100)\n",
    "ax = plt.axes(projection='3d')\n",
    "for i in range (nPlanes*nSats):\n",
    "    pk.orbit_plots.plot_planet(planet_list[i],axes=ax,s=64)"
   ]
  },
  {
   "cell_type": "code",
   "execution_count": null,
   "metadata": {},
   "outputs": [],
   "source": [
    "paseos_instances = []\n",
    "earth = pk.planet.jpl_lp(\"earth\")\n",
    "for idx,sat_pos_v in enumerate(sats_pos_and_v):\n",
    "    pos,v = sat_pos_v\n",
    "    sat_actor = ActorBuilder.get_actor_scaffold(name=\"Sat_\"+str(idx),\n",
    "                                                actor_type=SpacecraftActor,\n",
    "                                                epoch=t0)\n",
    "    ActorBuilder.set_orbit(actor=sat_actor,position=pos,velocity=v,epoch=t0,central_body=earth)\n",
    "    ActorBuilder.add_comm_device(actor=sat_actor,device_name=\"Link1\",bandwidth_in_kbps=1000)\n",
    "    ActorBuilder.set_power_devices(actor=sat_actor,battery_level_in_Ws=5000,\n",
    "                                   max_battery_level_in_Ws=100000,charging_rate_in_W=50)\n",
    "    ActorBuilder.set_thermal_model(\n",
    "            actor=sat_actor,\n",
    "            actor_mass=50.0,\n",
    "            actor_initial_temperature_in_K=273.15,\n",
    "            actor_sun_absorptance=1.0,\n",
    "            actor_infrared_absorptance=1.0,\n",
    "            actor_sun_facing_area=1.0,\n",
    "            actor_central_body_facing_area=1.0,\n",
    "            actor_emissive_area=1.0,\n",
    "            actor_thermal_capacity=1000\n",
    "    )\n",
    "    \n",
    "    instance = paseos.init_sim(local_actor=sat_actor)\n",
    "    paseos_instances.append(instance)"
   ]
  },
  {
   "cell_type": "code",
   "execution_count": null,
   "metadata": {},
   "outputs": [],
   "source": [
    "def get_consumption_and_activity(instance):\n",
    "    \"\"\"Determine power consumption of the instance\"\"\"\n",
    "    if operational_constraint(instance):\n",
    "        return 30.0,\"Processing\"\n",
    "    else: \n",
    "        return 3.0, \"Charging\"\n",
    "\n",
    "def operational_constraint(instance):\n",
    "    if (instance.local_actor.state_of_charge > 0.5 \n",
    "        and instance.local_actor.temperature_in_K < 350):\n",
    "        return True\n",
    "    else:\n",
    "        return False"
   ]
  },
  {
   "cell_type": "code",
   "execution_count": null,
   "metadata": {},
   "outputs": [],
   "source": [
    "simulation_time = 1.0 * 3600 # one day in seconds\n",
    "t = 0\n",
    "timestep = 60 # 1min\n",
    "while t < simulation_time: \n",
    "    # For each satellite\n",
    "    N_charging = 0\n",
    "    N_processing = 0\n",
    "    for instance in paseos_instances:\n",
    "        # Determine whether satellite is performing activity\n",
    "        power_consumption, activity = get_consumption_and_activity(instance)\n",
    "        if activity == \"Processing\":\n",
    "            N_processing += 1\n",
    "            eval_constraint = lambda: operational_constraint(instance)\n",
    "        else:\n",
    "            N_charging += 1\n",
    "            eval_constraint = None\n",
    "        instance.advance_time(\n",
    "            time_to_advance=timestep,\n",
    "            current_power_consumption_in_W=power_consumption,\n",
    "            constraint_function=eval_constraint\n",
    "        )\n",
    "    print(f\"Time:{t} - # of Processing = {N_processing}, # of Charging = {N_charging}\")\n",
    "    t += timestep"
   ]
  },
  {
   "cell_type": "code",
   "execution_count": null,
   "metadata": {},
   "outputs": [],
   "source": [
    "instance._operations_monitor._log.state_of_charge"
   ]
  },
  {
   "cell_type": "code",
   "execution_count": null,
   "metadata": {},
   "outputs": [],
   "source": []
  }
 ],
 "metadata": {
  "kernelspec": {
   "display_name": "Python 3.10.6 ('paseos')",
   "language": "python",
   "name": "python3"
  },
  "language_info": {
   "codemirror_mode": {
    "name": "ipython",
    "version": 3
   },
   "file_extension": ".py",
   "mimetype": "text/x-python",
   "name": "python",
   "nbconvert_exporter": "python",
   "pygments_lexer": "ipython3",
   "version": "3.10.6"
  },
  "orig_nbformat": 4,
  "vscode": {
   "interpreter": {
    "hash": "cec805858b69cacb2b7ad611a1d16c309b9d5c2fd3283013a8f0cd0423ba3fc5"
   }
  }
 },
 "nbformat": 4,
 "nbformat_minor": 2
}
