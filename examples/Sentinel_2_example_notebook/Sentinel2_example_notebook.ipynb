{
 "cells": [
  {
   "cell_type": "markdown",
   "id": "74b1ac03",
   "metadata": {},
   "source": [
    "# Sentinel-2 example notebook"
   ]
  },
  {
   "cell_type": "markdown",
   "id": "79556fc6",
   "metadata": {},
   "source": [
    "This notebook showcases how to use  `PASEOS` to implement **Sentinel2-A (S2A)** and **Sentinel2-B (S2B)**. In particular, the notebook shows how to create `space_actors` orbiting as the **S2A** and **S2B** around Earth. In addition, it shows how to add `power` and `communication` devices. Furthermore, it demonstrates how to register activities to perform onboard data acquisition and processing to detect **volcanic eruptions** on `Sentinel-2 L1C data`. <br> **DISCLAIMER**: the notebook requires `rasterio` to run correctly, which is not included in the packets required to install `PASEOS`."
   ]
  },
  {
   "cell_type": "code",
   "execution_count": null,
   "id": "33e7c0be",
   "metadata": {},
   "outputs": [],
   "source": [
    "%load_ext autoreload\n",
    "%autoreload 2\n",
    "import sys \n",
    "import os\n",
    "sys.path.insert(1, os.path.join(\"..\",\"..\"))\n",
    "import pykep as pk\n",
    "import numpy as np\n",
    "import paseos\n",
    "from paseos import ActorBuilder, SpacecraftActor\n",
    "from utils import s2pix_detector, acquire_data\n",
    "from paseos.utils.set_log_level import set_log_level\n",
    "from paseos.utils.load_default_cfg import load_default_cfg\n",
    "from paseos.visualization.space_animation import SpaceAnimation\n",
    "import asyncio\n",
    "set_log_level(\"INFO\")\n"
   ]
  },
  {
   "cell_type": "code",
   "execution_count": null,
   "id": "c0edb116",
   "metadata": {},
   "outputs": [],
   "source": [
    "# Define central body\n",
    "earth = pk.planet.jpl_lp(\"earth\")\n",
    "# Defining today date as pk.epoch (27 - 10 - 22)\n",
    "today=pk.epoch(8335.5, \"mjd2000\")"
   ]
  },
  {
   "cell_type": "markdown",
   "id": "3670f211",
   "metadata": {},
   "source": [
    "# 1) - Instantiate Sentinel 2 space actors"
   ]
  },
  {
   "cell_type": "markdown",
   "id": "cd78d83a",
   "metadata": {},
   "source": [
    "First of all, let's create the scaffolds for **S2A** and **S2B**. The scaffolds are objects which are not equipped with any `communication_device` nor `power_devices`. Furthermore, they neither have any `orbit`. "
   ]
  },
  {
   "cell_type": "code",
   "execution_count": null,
   "id": "0fceac34",
   "metadata": {},
   "outputs": [],
   "source": [
    "S2A = ActorBuilder.get_actor_scaffold(\n",
    "    \"Sentinel2-A\", SpacecraftActor, [0,0,0], today\n",
    ")\n",
    "\n",
    "# Define local actor\n",
    "S2B = ActorBuilder.get_actor_scaffold(\n",
    "    \"Sentinel2-B\", SpacecraftActor, [0,0,0], today\n",
    ")"
   ]
  },
  {
   "cell_type": "markdown",
   "id": "ba6a533b",
   "metadata": {},
   "source": [
    "#### 1.a) - Add an orbit for S2A and S2B"
   ]
  },
  {
   "cell_type": "markdown",
   "id": "9f77772e",
   "metadata": {},
   "source": [
    "Since **S2A** and **S2B** are orbiting around Earth, let's define `earth` as `pykep.planet` object."
   ]
  },
  {
   "cell_type": "code",
   "execution_count": null,
   "id": "30691b25",
   "metadata": {},
   "outputs": [],
   "source": [
    "# Define central body\n",
    "earth = pk.planet.jpl_lp(\"earth\")\n"
   ]
  },
  {
   "cell_type": "markdown",
   "id": "013bf2e2",
   "metadata": {},
   "source": [
    "To find a realistic orbits for **S2A** and **S2B**, we can exploit `Two Line Elements (TLEs)` (Downloaded on 27-10-2022). This would allow finding their ephemerides at time = 27-10-2022 12:00:00."
   ]
  },
  {
   "cell_type": "code",
   "execution_count": null,
   "id": "804356d0",
   "metadata": {},
   "outputs": [],
   "source": [
    "#Define today (27-10-22)\n",
    "today = pk.epoch(8335.5,\"mjd2000\")\n",
    "\n",
    "sentinel2A_line1 = \"1 40697U 15028A   22300.01175178 -.00001065  00000+0 -38995-3 0  9999\"\n",
    "sentinel2A_line2 = \"2 40697  98.5650  12.8880 0001080  78.8662 281.2690 14.30806819383668\"\n",
    "sentinel2A = pk.planet.tle(sentinel2A_line1, sentinel2A_line2)\n",
    "\n",
    "#Calculating S2A ephemerides.\n",
    "sentinel2A_eph=sentinel2A.eph(today)\n",
    "\n",
    "sentinel2B_line1 = \"1 42063U 17013A   22300.18652110  .00000099  00000+0  54271-4 0  9998\"\n",
    "sentinel2B_line2 = \"2 42063  98.5693  13.0364 0001083 104.3232 255.8080 14.30819357294601\"\n",
    "sentinel2B = pk.planet.tle(sentinel2B_line1, sentinel2B_line2)\n",
    "\n",
    "#Calculating S2B ephemerides.\n",
    "sentinel2B_eph=sentinel2B.eph(today)\n"
   ]
  },
  {
   "cell_type": "markdown",
   "id": "58ba7a45",
   "metadata": {},
   "source": [
    "**S2A** and **S2B** are always in phase opposition. The next cell show the positions of the two satellites in different instants (`2022-Oct-27 12:00:00`, `blue`) and (`2022-Oct-27 12:19:59`, `red`). "
   ]
  },
  {
   "cell_type": "code",
   "execution_count": null,
   "id": "43e0b2ab",
   "metadata": {},
   "outputs": [],
   "source": [
    "u, v = np.mgrid[0:2 * np.pi:30j, 0:np.pi:30j]\n",
    "x = pk.EARTH_RADIUS * np.cos(u) * np.sin(v)\n",
    "y = pk.EARTH_RADIUS * np.sin(u) * np.sin(v)\n",
    "z = pk.EARTH_RADIUS * np.cos(v)\n",
    "ax=pk.orbit_plots.plot_planet(sentinel2A,t0=today, color=\"b\")\n",
    "ax=pk.orbit_plots.plot_planet(sentinel2B,t0=today, axes=ax, color=\"b\")\n",
    "ax=pk.orbit_plots.plot_planet(sentinel2A,t0=pk.epoch(today.mjd2000 + 60 * 20 * pk.SEC2DAY), axes=ax, color=\"r\")\n",
    "ax=pk.orbit_plots.plot_planet(sentinel2B,t0=pk.epoch(today.mjd2000 + 60 * 20 * pk.SEC2DAY), axes=ax, color=\"r\")\n",
    "ax.plot_surface(x,y,z,alpha=0.1)"
   ]
  },
  {
   "cell_type": "markdown",
   "id": "8eab58f6",
   "metadata": {},
   "source": [
    "Since **S2A** and **S2B** are always in phase opposition, any communication between the satellites is impossible. Therefore, we will now set the **S2B** space actor orbit by inverting the direction of its speed. "
   ]
  },
  {
   "cell_type": "code",
   "execution_count": null,
   "id": "3567ebb8",
   "metadata": {},
   "outputs": [],
   "source": [
    "#Adding orbits around Earth based on previously calculated ephemerides\n",
    "ActorBuilder.set_orbit(S2A, sentinel2A_eph[0], sentinel2A_eph[1], today, earth)\n",
    "\n",
    "# To enable the communication between S2A and S2B, the velocity vector is multiplied by - 1 making the satellite to orbit with opposite direction.\n",
    "ActorBuilder.set_orbit(S2B, sentinel2B_eph[0], [-sentinel2B_eph[1][0], -sentinel2B_eph[1][1],-sentinel2B_eph[1][2]], today, earth)"
   ]
  },
  {
   "cell_type": "markdown",
   "id": "d3cb8c32",
   "metadata": {},
   "source": [
    "### 1.b) - Add communication and power devices"
   ]
  },
  {
   "cell_type": "markdown",
   "id": "c510ec67",
   "metadata": {},
   "source": [
    "Adding power devices. Max battery level: 102 Ah @ 28V is 2.81 kWh (effect of aging is neglected).  To identify the charging rate, we are assuming to be dependent only by the power of solar panels. We are neglecting eventual charging rate limits due to battery technology. The solar-panels power is 2300 W at begin of life and 1730 W at end of life. <br> Please, refer to: [Copernicus: Sentinel-2](https://www.eoportal.org/satellite-missions/copernicus-sentinel-2#space-segment.)"
   ]
  },
  {
   "cell_type": "code",
   "execution_count": null,
   "id": "00632457",
   "metadata": {},
   "outputs": [],
   "source": [
    "ActorBuilder.set_power_devices(S2A, battery_level_in_Ws=10080000, max_battery_level_in_Ws=10080000, charging_rate_in_W=1736)\n",
    "ActorBuilder.set_power_devices(S2B, battery_level_in_Ws=10080000, max_battery_level_in_Ws=10080000, charging_rate_in_W=1860)\n"
   ]
  },
  {
   "cell_type": "markdown",
   "id": "70d4dbf8",
   "metadata": {},
   "source": [
    "Adding communication devices. Here we assume Sentinel 2A and Sentinel 2B to have an Inter-Satellite-Link at 100 Mbps."
   ]
  },
  {
   "cell_type": "code",
   "execution_count": null,
   "id": "5c6896d3",
   "metadata": {},
   "outputs": [],
   "source": [
    "ActorBuilder.add_comm_device(S2A, \"isl_transmitter\", 100000)\n",
    "ActorBuilder.add_comm_device(S2B, \"isl_transmitter\", 100000)"
   ]
  },
  {
   "cell_type": "markdown",
   "id": "a1f00fd5",
   "metadata": {},
   "source": [
    "# 2) - Instantiate PASEOS simulation"
   ]
  },
  {
   "cell_type": "markdown",
   "id": "8d7f07aa",
   "metadata": {},
   "source": [
    "To instantiate `PASEOS`, we consider **S2A** as `local_actor`. The initial time is set to `today`."
   ]
  },
  {
   "cell_type": "code",
   "execution_count": null,
   "id": "14f3a552",
   "metadata": {},
   "outputs": [],
   "source": [
    "# init simulation\n",
    "cfg=load_default_cfg()\n",
    "cfg.sim.start_time=today.mjd2000 * pk.DAY2SEC\n",
    "sim = paseos.init_sim(S2A, cfg)"
   ]
  },
  {
   "cell_type": "markdown",
   "id": "3e0efbff",
   "metadata": {},
   "source": [
    "We now add **S2B** to the simulation."
   ]
  },
  {
   "cell_type": "code",
   "execution_count": null,
   "id": "97aa0a3a",
   "metadata": {},
   "outputs": [],
   "source": [
    "sim.add_known_actor(S2B)"
   ]
  },
  {
   "cell_type": "markdown",
   "id": "c0097d30",
   "metadata": {},
   "source": [
    "## 3) - Dealing with PASEOS activities "
   ]
  },
  {
   "cell_type": "markdown",
   "id": "087004a9",
   "metadata": {},
   "source": [
    "Here we demonstrate how you can use register and perform activities with `PASEOS`. To this aim, we will use `fetection of volcanic eruptions` as use case, assuming it will be possible to run it onboard `S2A`. To this aim, we will use a simplified version of the algorithm `[1] Massimetti, Francesco, et al. \"\"Volcanic hot-spot detection using SENTINEL-2: a comparison with MODIS–MIROVA thermal data series.\"\" Remote Sensing 12.5 (2020): 820.` The algorithm leverages on bands `B8A`, `B11` and `B12` and perform pixel-level detection. <br> We will assume S2A will acquire images and then process them by using [1]. In this notebook, we assume to be able to detect the following images regardless their proper geografical position. We thanks the `ESA` project `END2END` for providing images and the implementation of [1]."
   ]
  },
  {
   "cell_type": "markdown",
   "id": "33b8fa5f",
   "metadata": {},
   "source": [
    "### 3.a) - Registering activities "
   ]
  },
  {
   "cell_type": "markdown",
   "id": "0f001501",
   "metadata": {},
   "source": [
    "The next lines will show how to register an activity to simulate data acquisition on **S2A**. <Br>Each activity is bounded to an `asynchronous functions`.  Let's define the asynchornous function `acquire_data_async()´ as follow."
   ]
  },
  {
   "cell_type": "code",
   "execution_count": null,
   "id": "f128a7aa",
   "metadata": {},
   "outputs": [],
   "source": [
    "async def acquire_data_async(args):\n",
    "    args[1][0]=acquire_data(args[0])\n",
    "    await asyncio.sleep(3.4) #Acquisition for an L0 granule takes 3.6 seconds for S2A. "
   ]
  },
  {
   "cell_type": "markdown",
   "id": "e20c304e",
   "metadata": {},
   "source": [
    "The function `acquire_data_async()` uses `args[0]` as a filename to load the file and saves the acquired image into `args[1][0]`. Please, notice that using `args[1][0]` instead of `args[1]` is just a trick to be sure the acquired data are modifies the input argument `args[1]` by reference without creating a local copy of it. \n",
    "Therefore, let's define a placeholder `data_acquired` as a list containing 3 lists with `None` elements, which will be overwritted by `acquire_data_async()`."
   ]
  },
  {
   "cell_type": "code",
   "execution_count": null,
   "id": "1a09c6e2",
   "metadata": {},
   "outputs": [],
   "source": [
    "data_acquired=[[None], [None], [None]]"
   ]
  },
  {
   "cell_type": "markdown",
   "id": "77ad0c87",
   "metadata": {},
   "source": [
    "The next line will register the activity `data_acquisition` by associating int to the `activity_function` previously defined, `acquire_data_async`. It is up to the user to specify the power consumption in W for the activity. For Sentinel-2, the peak power of the imager is 266 W as reported in [Copernicus: Sentinel-2](https://www.eoportal.org/satellite-missions/copernicus-sentinel-2#space-segment.)"
   ]
  },
  {
   "cell_type": "code",
   "execution_count": null,
   "id": "d7236376",
   "metadata": {},
   "outputs": [],
   "source": [
    "# Register an activity that emulate data acquisition\n",
    "sim.register_activity(\n",
    "    \"data_acquisition\", activity_function=acquire_data_async, power_consumption_in_watt=266\n",
    ")\n"
   ]
  },
  {
   "cell_type": "markdown",
   "id": "737f48f7",
   "metadata": {},
   "source": [
    "Simlarly, we can register an activity to perform the volcanic event detection. "
   ]
  },
  {
   "cell_type": "code",
   "execution_count": null,
   "id": "3f407f24",
   "metadata": {},
   "outputs": [],
   "source": [
    "#Output event mask\n",
    "output_event_masks=[[None], [None], [None]]\n",
    "\n",
    "async def detect_volcanic_eruptions_async(args):\n",
    "    args[1][0]=s2pix_detector(args[0][0])\n",
    "    await asyncio.sleep(0.1)\n",
    "\n",
    "# Register an activity that emulate event detection\n",
    "sim.register_activity(\n",
    "    \"volcanic_event_detection\", activity_function=detect_volcanic_eruptions_async, power_consumption_in_watt=10\n",
    ")\n"
   ]
  },
  {
   "cell_type": "markdown",
   "id": "7f8b9b67",
   "metadata": {},
   "source": [
    "### 3.b) - Performing activities."
   ]
  },
  {
   "cell_type": "markdown",
   "id": "b63750f7",
   "metadata": {},
   "source": [
    "We can now perform the activities. In scheduling the activities, we assume that data are acquired and stored into the mass memory to be, then, processed during the off part of the satellite duty cycle. Please, refer to: [Copernicus: Sentinel-2](https://www.eoportal.org/satellite-missions/copernicus-sentinel-2#space-segment.) Please note that, when `sim.perform_activity(...)` is called, the keyword `await` is needed  **only for Jupyter notebooks** to ensure the correct management of asynchronous functions. **Remove it otherwise**."
   ]
  },
  {
   "cell_type": "code",
   "execution_count": null,
   "id": "50c006b7",
   "metadata": {},
   "outputs": [],
   "source": [
    "data_to_acquire=[\"Etna_00.tif\", \"La_Palma_02.tif\", \"Mayon_02.tif\"]\n",
    "\n",
    "#Data acquisition\n",
    "for n, data_name in zip(range(len(data_to_acquire)), data_to_acquire):\n",
    "    #Run the activity\n",
    "    await sim.perform_activity(\"data_acquisition\", activity_func_args=[data_name, data_acquired[n]])\n",
    "\n",
    "\n",
    "#Data processing\n",
    "for n in range(len(data_to_acquire)):\n",
    "    #Run the activity\n",
    "    await sim.perform_activity(\"volcanic_event_detection\", activity_func_args=[data_acquired[n],output_event_masks[n]])\n"
   ]
  },
  {
   "cell_type": "markdown",
   "id": "08173794",
   "metadata": {},
   "source": [
    "### 3.c) - Results visualization"
   ]
  },
  {
   "cell_type": "code",
   "execution_count": null,
   "id": "85bbd3ac",
   "metadata": {},
   "outputs": [],
   "source": [
    "import matplotlib.pyplot as plt\n",
    "fig, ax=plt.subplots(1,3,figsize=(20,20))\n",
    "\n",
    "for n in range(3):\n",
    "    ax[n].imshow(data_acquired[n][0])\n",
    "    ax[n].contour(output_event_masks[n][0], colors=\"r\")"
   ]
  },
  {
   "cell_type": "markdown",
   "id": "22ada1c7",
   "metadata": {},
   "source": [
    "## 4) - PASEOS Animations"
   ]
  },
  {
   "cell_type": "markdown",
   "id": "f9291318",
   "metadata": {},
   "source": [
    "The next cells show how to use `PASEOS` animations. "
   ]
  },
  {
   "cell_type": "code",
   "execution_count": null,
   "id": "d0d98d83",
   "metadata": {},
   "outputs": [],
   "source": [
    "from IPython import display\n",
    "from loguru import logger\n",
    "import time \n",
    "\n",
    "logger.remove() \n",
    "logger.add(sys.stderr, level=\"INFO\")# using DEBUG level will create tons of text\n",
    "\n",
    "anim = SpaceAnimation(sim)\n",
    "\n",
    "dt = 100  # time step in seconds\n",
    "for x in range(100):\n",
    "    anim.animate(sim, dt)\n",
    "    display.display(anim.fig) \n",
    "    time.sleep(0.01)\n",
    "    display.clear_output(wait=True)"
   ]
  }
 ],
 "metadata": {
  "kernelspec": {
   "display_name": "paseos",
   "language": "python",
   "name": "paseos"
  },
  "language_info": {
   "codemirror_mode": {
    "name": "ipython",
    "version": 3
   },
   "file_extension": ".py",
   "mimetype": "text/x-python",
   "name": "python",
   "nbconvert_exporter": "python",
   "pygments_lexer": "ipython3",
   "version": "3.10.6"
  }
 },
 "nbformat": 4,
 "nbformat_minor": 5
}
