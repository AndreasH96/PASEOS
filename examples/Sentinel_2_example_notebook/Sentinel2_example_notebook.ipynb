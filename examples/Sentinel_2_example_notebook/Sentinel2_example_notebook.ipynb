{
 "cells": [
  {
   "cell_type": "markdown",
   "id": "74b1ac03",
   "metadata": {},
   "source": [
    "# Sentinel-2 example notebook"
   ]
  },
  {
   "cell_type": "markdown",
   "id": "79556fc6",
   "metadata": {},
   "source": [
    "This notebook showcases how to use  `PASEOS` to simulate **Sentinel2-B (S2B)**. In particular, the notebook shows how to create `space_actors` orbiting as the **S2B** around Earth. In addition, it shows how to add a `power` device and demonstrates how to register activities to perform onboard data acquisition and processing to detect **volcanic eruptions** on `Sentinel-2 L1C data`. <br> **DISCLAIMER**: the notebook requires `rasterio` and `scikit-image` to run correctly, which is not included in the packets required to install `PASEOS`. To install `rasterio` you can use: <br><center>  ```conda install -c conda-forge rasterio``` or alternatively ```pip install rasterio``` </center>\n",
    "<br>To install `scikit-image` you can use: <br><center>  ```conda install scikit-image``` or alternatively ```pip install scikit-image``` </center>"
   ]
  },
  {
   "cell_type": "code",
   "execution_count": null,
   "id": "33e7c0be",
   "metadata": {},
   "outputs": [],
   "source": [
    "%load_ext autoreload\n",
    "%autoreload 2\n",
    "%matplotlib notebook\n",
    "import sys \n",
    "import os\n",
    "sys.path.insert(1, os.path.join(\"..\",\"..\"))\n",
    "import pykep as pk\n",
    "import numpy as np\n",
    "import paseos\n",
    "from paseos import ActorBuilder, SpacecraftActor\n",
    "from utils import s2pix_detector, acquire_data\n",
    "from paseos.utils.load_default_cfg import load_default_cfg\n",
    "import asyncio\n",
    "import urllib.request\n",
    "import matplotlib.pyplot as plt\n",
    "from matplotlib import patches"
   ]
  },
  {
   "cell_type": "markdown",
   "id": "d286021d",
   "metadata": {},
   "source": [
    "Setting logging level of `paseos` to `INFO` to reduce the verbosity of the execution."
   ]
  },
  {
   "cell_type": "code",
   "execution_count": null,
   "id": "c0edb116",
   "metadata": {},
   "outputs": [],
   "source": [
    "paseos.set_log_level(\"INFO\")"
   ]
  },
  {
   "cell_type": "markdown",
   "id": "3670f211",
   "metadata": {},
   "source": [
    "# 1) - Instantiate Sentinel 2 space actors"
   ]
  },
  {
   "cell_type": "markdown",
   "id": "cd78d83a",
   "metadata": {},
   "source": [
    "First of all, let's create the scaffolds for **S2B**. The scaffolds are objects which are not equipped with any `communication_device` nor `power_devices`. Furthermore, they neither have any `orbit`. "
   ]
  },
  {
   "cell_type": "code",
   "execution_count": null,
   "id": "0fceac34",
   "metadata": {},
   "outputs": [],
   "source": [
    "# Define local actor\n",
    "S2B = ActorBuilder.get_actor_scaffold(name=\"Sentinel2-B\", actor_type=SpacecraftActor, epoch=pk.epoch(0))"
   ]
  },
  {
   "cell_type": "markdown",
   "id": "ba6a533b",
   "metadata": {},
   "source": [
    "#### 1.a) - Add an orbit for S2B"
   ]
  },
  {
   "cell_type": "markdown",
   "id": "9f77772e",
   "metadata": {},
   "source": [
    "Since **S2B** is orbiting around Earth, let's define `earth` as `pykep.planet` object. "
   ]
  },
  {
   "cell_type": "code",
   "execution_count": null,
   "id": "30691b25",
   "metadata": {},
   "outputs": [],
   "source": [
    "# Define central body\n",
    "earth = pk.planet.jpl_lp(\"earth\")"
   ]
  },
  {
   "cell_type": "markdown",
   "id": "013bf2e2",
   "metadata": {},
   "source": [
    "To find realistic orbits for **S2B**, we can exploit `Two Line Elements (TLEs)` (Downloaded on 27-10-2022). This would allow finding their ephemerides at time = 27-10-2022 12:00:00.\n",
    "Please, refer to [Two-line_element_set](https://en.wikipedia.org/wiki/Two-line_element_set) to know more about TLEs."
   ]
  },
  {
   "cell_type": "code",
   "execution_count": null,
   "id": "804356d0",
   "metadata": {},
   "outputs": [],
   "source": [
    "#Define today as pykep epoch (27-10-22)\n",
    "today = pk.epoch_from_string('2022-10-27 12:00:00.000')\n",
    "\n",
    "sentinel2B_line1 = \"1 42063U 17013A   22300.18652110  .00000099  00000+0  54271-4 0  9998\"\n",
    "sentinel2B_line2 = \"2 42063  98.5693  13.0364 0001083 104.3232 255.8080 14.30819357294601\"\n",
    "sentinel2B = pk.planet.tle(sentinel2B_line1, sentinel2B_line2)\n",
    "\n",
    "#Calculating S2B ephemerides.\n",
    "sentinel2B_eph=sentinel2B.eph(today)\n"
   ]
  },
  {
   "cell_type": "markdown",
   "id": "8eab58f6",
   "metadata": {},
   "source": [
    "We will now leverage the `ActorBuilder` to build a `space actor` for **S2B** on top of the scaffold previously created."
   ]
  },
  {
   "cell_type": "code",
   "execution_count": null,
   "id": "3567ebb8",
   "metadata": {},
   "outputs": [],
   "source": [
    "#Adding orbits around Earth based on previously calculated ephemerides\n",
    "ActorBuilder.set_orbit(actor=S2B, \n",
    "                       position=sentinel2B_eph[0], \n",
    "                       velocity=sentinel2B_eph[1], \n",
    "                       epoch=today, central_body=earth)"
   ]
  },
  {
   "cell_type": "markdown",
   "id": "d3cb8c32",
   "metadata": {},
   "source": [
    "### 1.b) - Add communication and power devices"
   ]
  },
  {
   "cell_type": "markdown",
   "id": "c510ec67",
   "metadata": {},
   "source": [
    "Adding power devices. Max battery level: 102 Ah @ 28V is 2.81 kWh (effect of aging is neglected).  To identify the charging rate, we are assuming to be dependent only by the power of solar panels. We are neglecting eventual charging rate limits due to battery technology. The solar-panels power is 2300 W at begin of life and 1730 W at end of life. <br> Please, refer to: [Copernicus: Sentinel-2](https://www.eoportal.org/satellite-missions/copernicus-sentinel-2#space-segment.)"
   ]
  },
  {
   "cell_type": "code",
   "execution_count": null,
   "id": "00632457",
   "metadata": {},
   "outputs": [],
   "source": [
    "ActorBuilder.set_power_devices(actor=S2B, \n",
    "                               battery_level_in_Ws=10080000, \n",
    "                               max_battery_level_in_Ws=10080000, \n",
    "                               charging_rate_in_W=1860)"
   ]
  },
  {
   "cell_type": "markdown",
   "id": "a1f00fd5",
   "metadata": {},
   "source": [
    "# 2) - Instantiate PASEOS simulation"
   ]
  },
  {
   "cell_type": "markdown",
   "id": "8d7f07aa",
   "metadata": {},
   "source": [
    "To instantiate `PASEOS`, we consider **S2B** as `local_actor`. The initial time is set to `today`."
   ]
  },
  {
   "cell_type": "code",
   "execution_count": null,
   "id": "14f3a552",
   "metadata": {},
   "outputs": [],
   "source": [
    "# init simulation\n",
    "cfg=load_default_cfg()\n",
    "cfg.sim.start_time=today.mjd2000 * pk.DAY2SEC\n",
    "cfg.sim.activity_timestep = 0.5 # update rate for plots. \n",
    "sim = paseos.init_sim(S2B, cfg)"
   ]
  },
  {
   "cell_type": "markdown",
   "id": "c0097d30",
   "metadata": {},
   "source": [
    "## 3) - Dealing with PASEOS activities "
   ]
  },
  {
   "cell_type": "markdown",
   "id": "087004a9",
   "metadata": {},
   "source": [
    "Here we demonstrate how you can use `PASEOS` to perform activities. To this aim, we will use `detection of volcanic eruptions` as use case, assuming it will be possible to run it onboard `S2B`. <br>We exploit a simplified version of the algorithm `[1]`, which leverages the spectral bands `B8A`, `B11` and `B12` to create a binary-map containing pixels marked as thermal anomalies. To detect the volcanic eruptions, we cluster those pixels in bounding boxes and return their coordinates to simulate an alert creation. <br> We will assume `S2B` will acquire images and then process them by using [1]. In this notebook, we assume to be able to detect the following images regardless of their proper geographical position. We thank the `ESA` project `Sentinel2_L0` for providing images and the implementation of [1]. <br>\n",
    "**References**: <br>\n",
    "`[1]  Massimetti, Francesco, et al. \"\"Volcanic hot-spot detection using SENTINEL-2: a comparison with MODIS–MIROVA thermal data series.\"\" Remote Sensing 12.5 (2020): 820.`"
   ]
  },
  {
   "cell_type": "markdown",
   "id": "da3feb38",
   "metadata": {},
   "source": [
    "The next cell will download the files that are needed to execute the next parts of the notebook. The files belong to the `Sentinel2_L0` dataset project (to be released soon with GPL license)."
   ]
  },
  {
   "cell_type": "code",
   "execution_count": null,
   "id": "3f3d340b",
   "metadata": {},
   "outputs": [],
   "source": [
    "if not(os.path.isfile(\"Etna_00.tif\")):\n",
    "    print(\"Downloading the file: Etna_00.tif\")\n",
    "    urllib.request.urlretrieve(\"https://actcloud.estec.esa.int/actcloud/index.php/s/9Tw5pEbGbVO3Ttt/download\", \"Etna_00.tif\")\n",
    "if not(os.path.isfile(\"La_Palma_02.tif\")):\n",
    "    print(\"Downloading the file: La_Palma_02.tif\")\n",
    "    urllib.request.urlretrieve(\"https://actcloud.estec.esa.int/actcloud/index.php/s/vtObKJOuYLgdPf4/download\", \"La_Palma_02.tif\")\n",
    "if not(os.path.isfile(\"Mayon_02.tif\")):\n",
    "    print(\"Downloading the file: Mayon_02.tif\")\n",
    "    urllib.request.urlretrieve(\"https://actcloud.estec.esa.int/actcloud/index.php/s/e0MyilW1plYdehL/download\", \"Mayon_02.tif\")"
   ]
  },
  {
   "cell_type": "markdown",
   "id": "eb838004",
   "metadata": {},
   "source": [
    "### 3.a) - PASEOS visualization "
   ]
  },
  {
   "cell_type": "markdown",
   "id": "105d2dcb",
   "metadata": {},
   "source": [
    "`PASEOS` offers a visualization tool that can be used to display the position of `S2B` around its orbit, the state of charge of the battery, and the name of the performed activity. <br>To enable the visualization, let's define a `plotter`. "
   ]
  },
  {
   "cell_type": "code",
   "execution_count": null,
   "id": "b659de80",
   "metadata": {},
   "outputs": [],
   "source": [
    "# Plot current status of PASEOS and get a plotter\n",
    "plotter = paseos.plot(sim, paseos.PlotType.SpacePlot)"
   ]
  },
  {
   "cell_type": "markdown",
   "id": "33b8fa5f",
   "metadata": {},
   "source": [
    "### 3.b) - Registering activities "
   ]
  },
  {
   "cell_type": "markdown",
   "id": "0f001501",
   "metadata": {},
   "source": [
    "The next lines will show how to register an activity to simulate data acquisition on **S2B**. <Br>Each activity is bound to an `asynchronous function`.  Let's define the asynchornous function `acquire_data_async()` as follow."
   ]
  },
  {
   "cell_type": "code",
   "execution_count": null,
   "id": "f128a7aa",
   "metadata": {},
   "outputs": [],
   "source": [
    "async def acquire_data_async(args):\n",
    "    args[1][0], args[2][0]=acquire_data(args[0])\n",
    "    await asyncio.sleep(3.6) #Acquisition for an L0 granule takes 3.6 seconds for S2B. "
   ]
  },
  {
   "cell_type": "markdown",
   "id": "e20c304e",
   "metadata": {},
   "source": [
    "The function `acquire_data_async()` uses `args[0]` as a filename to load the file and saves the acquired image into `args[1][0]` and geo-information into `args[2][0]`. Please, notice that using `args[1][0]` instead of `args[1]` is just a trick to be sure the acquired data are modifies the input argument `args[1]` by reference without creating a local copy of it. \n",
    "Therefore, let's define a placeholder `data_acquired` as a list containing 3 lists with `None` elements, which will be overwritted by `acquire_data_async()`."
   ]
  },
  {
   "cell_type": "code",
   "execution_count": null,
   "id": "1a09c6e2",
   "metadata": {},
   "outputs": [],
   "source": [
    "data_acquired=[[None], [None], [None]]\n",
    "data_acquired_coordinates=[[None], [None], [None]]"
   ]
  },
  {
   "cell_type": "markdown",
   "id": "fbba6434",
   "metadata": {},
   "source": [
    "To enable the visualization of the activity in the `plotter`, we can leverage a **constraint function**. \n",
    "The purpose of a **constraint function** is generally to model constraints and return whether those are still true. However, since it is regularly executed we can use it to update the plotter  according to the simulation. Let's define `constraint_func()` as follows."
   ]
  },
  {
   "cell_type": "code",
   "execution_count": null,
   "id": "2631eedc",
   "metadata": {},
   "outputs": [],
   "source": [
    "# Constraint function\n",
    "async def constraint_func(args):\n",
    "    plotter.update(sim)\n",
    "    return True #Do not remove this."
   ]
  },
  {
   "cell_type": "markdown",
   "id": "77ad0c87",
   "metadata": {},
   "source": [
    "The next line will register the activity `data_acquisition` by associating int to the `activity_function` previously defined, `acquire_data_async` and by using the `constraint_func` as **constraint function**. It is up to the user to specify the power consumption in W for the activity. For Sentinel-2, the peak power of the imager is 266 W as reported in [Copernicus: Sentinel-2](https://www.eoportal.org/satellite-missions/copernicus-sentinel-2#space-segment.)"
   ]
  },
  {
   "cell_type": "code",
   "execution_count": null,
   "id": "d7236376",
   "metadata": {},
   "outputs": [],
   "source": [
    "# Register an activity that emulate data acquisition\n",
    "sim.register_activity(\n",
    "    \"data_acquisition\", activity_function=acquire_data_async, \n",
    "    power_consumption_in_watt=266, constraint_function=constraint_func\n",
    ")"
   ]
  },
  {
   "cell_type": "markdown",
   "id": "3ef06156",
   "metadata": {},
   "source": [
    "Similary, we can register an activity to perform the volcanic event detection. "
   ]
  },
  {
   "cell_type": "code",
   "execution_count": null,
   "id": "3f407f24",
   "metadata": {},
   "outputs": [],
   "source": [
    "# Output bbox info\n",
    "output_event_bbox_info = [[None], [None], [None]]\n",
    "\n",
    "async def detect_volcanic_eruptions_async(args):\n",
    "    args[2][0] = s2pix_detector(args[0][0], args[1][0])\n",
    "    await asyncio.sleep(1) #Assuming one second processing for the cropped tile.\n",
    "\n",
    "\n",
    "# Register an activity that emulate event detection\n",
    "sim.register_activity(\n",
    "    \"volcanic_event_detection\",\n",
    "    activity_function=detect_volcanic_eruptions_async,\n",
    "    power_consumption_in_watt=10,\n",
    "    constraint_function=constraint_func\n",
    ")"
   ]
  },
  {
   "cell_type": "markdown",
   "id": "2d3e30c0",
   "metadata": {},
   "source": [
    "Let's define now a new activity emulating the status in which the satellite is an await status before to be able to collect new images. "
   ]
  },
  {
   "cell_type": "markdown",
   "id": "9f832ef7",
   "metadata": {},
   "source": [
    "The new activity `wait_before_acquire_async(time_s)` is used to simulate a status where the satellite is neither acquiring data, neither processing data. `time_s` is the wait time. The function will be also useful to showcase the `PASEOS` visualization utilities for long time. To this aim, you can set `time_s` beyond 10s to extend the visualization plotting above. <br>"
   ]
  },
  {
   "cell_type": "code",
   "execution_count": null,
   "id": "0faf79c7",
   "metadata": {},
   "outputs": [],
   "source": [
    "async def wait_before_acquire_async(time_s):\n",
    "    print(\"Waiting to be able to acquire new data.\")\n",
    "    await asyncio.sleep(time_s[0])"
   ]
  },
  {
   "cell_type": "markdown",
   "id": "355720a5",
   "metadata": {},
   "source": [
    "We also use the function `on_termination`, which is executed once the activity is terminated. In this example, this is a signal that notifies that the satellite is ready to start acquiring again. "
   ]
  },
  {
   "cell_type": "code",
   "execution_count": null,
   "id": "d98c6b9b",
   "metadata": {},
   "outputs": [],
   "source": [
    "async def on_termination(args):\n",
    "    print(\"Satellite ready to acquire data again.\")"
   ]
  },
  {
   "cell_type": "markdown",
   "id": "1becfe8b",
   "metadata": {},
   "source": [
    "Let's now register the activity `wait_before_acquire` by using both `constraint_func` and `on_termination` functions. We set up a not-zero `power_consumption_in_watt` for the activity to show you how the battery status is updated in the visualization. "
   ]
  },
  {
   "cell_type": "code",
   "execution_count": null,
   "id": "5459a2b3",
   "metadata": {},
   "outputs": [],
   "source": [
    "# Register an activity that emulate event detection\n",
    "sim.register_activity(\n",
    "    \"wait_before_acquire\", \n",
    "    activity_function=wait_before_acquire_async, \n",
    "    power_consumption_in_watt=20000, \n",
    "    constraint_function=constraint_func,\n",
    "    on_termination_function=on_termination\n",
    ")"
   ]
  },
  {
   "cell_type": "markdown",
   "id": "7f8b9b67",
   "metadata": {},
   "source": [
    "### 3.c) - Performing activities."
   ]
  },
  {
   "cell_type": "markdown",
   "id": "b63750f7",
   "metadata": {},
   "source": [
    "We can now perform the activities. In scheduling the activities, we assume that data are acquired and stored into the mass memory to be, then, processed during the off part of the satellite duty cycle. Please, refer to: [Copernicus: Sentinel-2](https://www.eoportal.org/satellite-missions/copernicus-sentinel-2#space-segment.). <br> **N.B.** Notice that, when `sim.perform_activity(...)` is called, the keyword `await` is needed  **only for Jupyter notebooks** to ensure the correct management of asynchronous functions. **Remove it otherwise**. "
   ]
  },
  {
   "cell_type": "code",
   "execution_count": null,
   "id": "50c006b7",
   "metadata": {},
   "outputs": [],
   "source": [
    "data_to_acquire=[\"Etna_00.tif\", \"La_Palma_02.tif\", \"Mayon_02.tif\"]\n",
    "\n",
    "\n",
    "#Data acquisition and processing\n",
    "print(\"Scroll up and take a look at the plotter.\")\n",
    "\n",
    "for n, data_name in zip(range(len(data_to_acquire)), data_to_acquire):\n",
    "    # Run the activity\n",
    "    await sim.perform_activity(\"wait_before_acquire\", activity_func_args=[10])\n",
    "    \n",
    "    #Run the activity\n",
    "    await sim.perform_activity(\"data_acquisition\", activity_func_args=[data_name, data_acquired[n], data_acquired_coordinates[n]])\n",
    "    \n",
    "    #Run the activity\n",
    "    await sim.perform_activity(\"volcanic_event_detection\", \n",
    "                               activity_func_args=[data_acquired[n], data_acquired_coordinates[n], output_event_bbox_info[n]])\n",
    "\n",
    "    \n",
    "# Updating the plotter outside to show the final state after performing the activities\n",
    "plotter.update(sim)\n"
   ]
  },
  {
   "cell_type": "markdown",
   "id": "08173794",
   "metadata": {},
   "source": [
    "### 3.d) - Showing detected volcanic eruptions"
   ]
  },
  {
   "cell_type": "markdown",
   "id": "71073cdb",
   "metadata": {},
   "source": [
    "The next plot will show an example of onboard coarse volcanic eruptions detection on some Sentinel-2 L1C tiles. The different eruptions will be surrounded a bounding box, and their coordinates will be printed to raise an alert."
   ]
  },
  {
   "cell_type": "code",
   "execution_count": null,
   "id": "2d584c87",
   "metadata": {},
   "outputs": [],
   "source": [
    "bboxes, bbox_coordinates = output_event_bbox_info[n][0][0], output_event_bbox_info[n][0][1]"
   ]
  },
  {
   "cell_type": "code",
   "execution_count": null,
   "id": "85bbd3ac",
   "metadata": {},
   "outputs": [],
   "source": [
    "fig, ax=plt.subplots(1,3,figsize=(10,4))\n",
    "\n",
    "for n in range(3):\n",
    "    ax[n].imshow(data_acquired[n][0])\n",
    "    \n",
    "    bboxes, bbox_coordinates = output_event_bbox_info[n][0][0], output_event_bbox_info[n][0][1]\n",
    "    for bbox in bboxes:\n",
    "        bbox=bbox.bbox\n",
    "        rect = patches.Rectangle((bbox[1], bbox[0]), abs(bbox[1]-bbox[3]), abs(bbox[0]-bbox[2]), linewidth=1, edgecolor='y', facecolor='none')\n",
    "        ax[n].add_patch(rect)\n",
    "    \n",
    "    for coords in bbox_coordinates:\n",
    "        print(\"ALERT! Eruption found at: \\n\\t Top left corner(lon, lat): \"+str(coords[0]) +\"\\n\\t bottom right corner(lon, lat): \"+str(coords[1])+\"\\n\")\n",
    "    print(\"\\n\")"
   ]
  },
  {
   "cell_type": "code",
   "execution_count": null,
   "id": "e65decb5",
   "metadata": {},
   "outputs": [],
   "source": []
  }
 ],
 "metadata": {
  "kernelspec": {
   "display_name": "paseos",
   "language": "python",
   "name": "paseos"
  },
  "language_info": {
   "codemirror_mode": {
    "name": "ipython",
    "version": 3
   },
   "file_extension": ".py",
   "mimetype": "text/x-python",
   "name": "python",
   "nbconvert_exporter": "python",
   "pygments_lexer": "ipython3",
   "version": "3.10.6"
  }
 },
 "nbformat": 4,
 "nbformat_minor": 5
}
