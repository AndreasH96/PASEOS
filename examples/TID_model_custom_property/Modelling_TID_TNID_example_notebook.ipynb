{
 "cells": [
  {
   "cell_type": "markdown",
   "id": "79556fc6",
   "metadata": {},
   "source": [
    "# Model Total Ionization Dose (TID) example notebook\n",
    "\n",
    "This notebook showcases how to model **Total Ionization Dose (TID)** inside `PASEOS`. To this aim, we will use a **custom property** to model the accumulated dose and the consequent risk of failure. <br>\n",
    "We used [SPENVIS](https://www.spenvis.oma.be/) to estimate the total dose and the electron and protons fluxes over 30 mission days on the [Sentinel-2](https://sentinel.esa.int/web/sentinel/missions/sentinel-2) sun-synchronous orbit. "
   ]
  },
  {
   "cell_type": "code",
   "execution_count": null,
   "id": "33e7c0be",
   "metadata": {},
   "outputs": [],
   "source": [
    "%load_ext autoreload\n",
    "%autoreload 2\n",
    "import sys \n",
    "import os\n",
    "import asyncio\n",
    "sys.path.insert(1, os.path.join(\"..\",\"..\"))\n",
    "import pykep as pk\n",
    "import numpy as np\n",
    "import paseos\n",
    "from paseos import ActorBuilder, SpacecraftActor\n",
    "from paseos.utils.load_default_cfg import load_default_cfg\n",
    "from numpy.random import lognormal\n",
    "import matplotlib.pyplot as plt\n",
    "import numpy as np\n",
    "from matplotlib import patches"
   ]
  },
  {
   "cell_type": "markdown",
   "id": "3670f211",
   "metadata": {},
   "source": [
    "# 1) - Instantiate a space actor\n",
    "\n",
    "First of all, let's create the scaffolds for  our satellite **sat** over Sentinel-2B orbit. To know more about scaffolds and actors, please check our [Sentinel-2B example notebook](https://github.com/aidotse/PASEOS/blob/main/examples/Sentinel_2_example_notebook/Sentinel2_example_notebook.ipynb)."
   ]
  },
  {
   "cell_type": "code",
   "execution_count": null,
   "id": "0fceac34",
   "metadata": {},
   "outputs": [],
   "source": [
    "# Define local actor\n",
    "sat = ActorBuilder.get_actor_scaffold(name=\"sat\", actor_type=SpacecraftActor, epoch=pk.epoch(0))"
   ]
  },
  {
   "cell_type": "markdown",
   "id": "ba6a533b",
   "metadata": {},
   "source": [
    "#### 1.a) - Add an orbit for S2B\n",
    "\n",
    "Since **sat** is orbiting around Earth, let's define `earth` as `pykep.planet` object. \n",
    "\n",
    "Internally, paseos uses pykep.planet objects to model gravitational acceleration and Keplerian orbits."
   ]
  },
  {
   "cell_type": "code",
   "execution_count": null,
   "id": "30691b25",
   "metadata": {},
   "outputs": [],
   "source": [
    "# Define central body\n",
    "earth = pk.planet.jpl_lp(\"earth\")"
   ]
  },
  {
   "cell_type": "markdown",
   "id": "013bf2e2",
   "metadata": {},
   "source": [
    "To find realistic orbits for **sat**, we can exploit `Two Line Elements (TLEs)` (Downloaded on 27-10-2022). This would allow finding their ephemerides at time = 27-10-2022 12:00:00.\n",
    "Please, refer to [Two-line_element_set](https://en.wikipedia.org/wiki/Two-line_element_set) to know more about TLEs."
   ]
  },
  {
   "cell_type": "code",
   "execution_count": null,
   "id": "804356d0",
   "metadata": {},
   "outputs": [],
   "source": [
    "#Define today as pykep epoch (27-10-22)\n",
    "#please, refer to https://esa.github.io/pykep/documentation/core.html#pykep.epoch\n",
    "today = pk.epoch_from_string('2022-10-27 12:00:00.000')\n",
    "\n",
    "sentinel2B_line1 = \"1 42063U 17013A   22300.18652110  .00000099  00000+0  54271-4 0  9998\"\n",
    "sentinel2B_line2 = \"2 42063  98.5693  13.0364 0001083 104.3232 255.8080 14.30819357294601\"\n",
    "sentinel2B = pk.planet.tle(sentinel2B_line1, sentinel2B_line2)\n",
    "\n",
    "#Calculating S2B ephemerides.\n",
    "sentinel2B_eph=sentinel2B.eph(today)\n"
   ]
  },
  {
   "cell_type": "markdown",
   "id": "8eab58f6",
   "metadata": {},
   "source": [
    "Now we define the actor's orbit for **S2B**."
   ]
  },
  {
   "cell_type": "code",
   "execution_count": null,
   "id": "3567ebb8",
   "metadata": {},
   "outputs": [],
   "source": [
    "#Adding orbit around Earth based on previously calculated ephemerides\n",
    "ActorBuilder.set_orbit(actor=sat, \n",
    "                       position=sentinel2B_eph[0], \n",
    "                       velocity=sentinel2B_eph[1], \n",
    "                       epoch=today, central_body=earth)"
   ]
  },
  {
   "cell_type": "markdown",
   "id": "a1f00fd5",
   "metadata": {},
   "source": [
    "# 2) - Instantiate PASEOS simulation\n",
    "\n",
    "To instantiate `PASEOS`, we consider **S2B** as `local_actor`. The initial time is set to `today`."
   ]
  },
  {
   "cell_type": "code",
   "execution_count": null,
   "id": "14f3a552",
   "metadata": {},
   "outputs": [],
   "source": [
    "cfg=load_default_cfg() # loading cfg to modify defaults\n",
    "cfg.sim.start_time=today.mjd2000 * pk.DAY2SEC # convert epoch to seconds\n",
    "cfg.sim.activity_timestep = 10.0 # update frequency of the constraint function. \n",
    "sim = paseos.init_sim(sat, cfg)"
   ]
  },
  {
   "cell_type": "markdown",
   "id": "7105d9ff",
   "metadata": {},
   "source": [
    "# 3) - Modelling TID effects in PASEOS"
   ]
  },
  {
   "cell_type": "markdown",
   "id": "66a7bb54",
   "metadata": {},
   "source": [
    "According to SPENVIS the total dose over 30 mission days is of 3.165E+03 rad (electrons and protons). This is calculated by using 2.5mm spherical shielding wrapping the electronic device."
   ]
  },
  {
   "cell_type": "code",
   "execution_count": null,
   "id": "32017753",
   "metadata": {},
   "outputs": [],
   "source": [
    "dose_krad=3.165 "
   ]
  },
  {
   "cell_type": "markdown",
   "id": "ec6c3cec",
   "metadata": {},
   "source": [
    "We assume now that the dose increases linearly between t=0 to t=30 days. "
   ]
  },
  {
   "cell_type": "code",
   "execution_count": null,
   "id": "f147b1b9",
   "metadata": {},
   "outputs": [],
   "source": [
    "d_dose_dt=dose_krad / (30 * 24 * 3600)"
   ]
  },
  {
   "cell_type": "markdown",
   "id": "677eafc9",
   "metadata": {},
   "source": [
    "To model TID in PASEOS, we can use custom properties. First of all, we define the a property called `total_ionizing_dose`. We then create a dedicated an update function `prop_update_fn` to compute the dose over time."
   ]
  },
  {
   "cell_type": "code",
   "execution_count": null,
   "id": "6edda0b7",
   "metadata": {},
   "outputs": [],
   "source": [
    "# Add a custom property which tracks the TID\n",
    "prop_name = \"total_ionizing_dose\"\n",
    "# Define the update function\n",
    "def prop_update_fn(actor, dt, power_consumption):\n",
    "    return actor.get_custom_property(prop_name) + d_dose_dt * dt"
   ]
  },
  {
   "cell_type": "markdown",
   "id": "3bb1bcd8",
   "metadata": {},
   "source": [
    "We can now add a custom property that models the `total_ionizing_dose`, which is updated as described by `prop_update_fn`."
   ]
  },
  {
   "cell_type": "code",
   "execution_count": null,
   "id": "5032177b",
   "metadata": {},
   "outputs": [],
   "source": [
    "ActorBuilder.add_custom_property(actor=sat, property_name=prop_name, update_function=prop_update_fn, initial_value=0.0)"
   ]
  },
  {
   "cell_type": "markdown",
   "id": "d7892551",
   "metadata": {},
   "source": [
    "# 4) - Calculate the probability of a failure due to the TID"
   ]
  },
  {
   "cell_type": "markdown",
   "id": "970f4e65",
   "metadata": {},
   "source": [
    "According to the work [Wang, Jian-zhao et al.](https://www.sciencedirect.com/science/article/pii/S0026271422002712?casa_token=PbtCHwrwtKwAAAAA:hddUtlxhJM_CC-nUZBuxG2qZ7793olmDjTO7ZyztDxjjsteCl1fxvlh88SjEiRIeGVR430Po4EJW), the failure probability due to TID ($P_{failure}$) can be calculates as follows: \n",
    "\n",
    "<br> $P_{failure}=\\int_{0}^{dose(t)} (1-H(x)) \\cdot g(x) \\cdot dx $\n",
    "\n",
    "where:\n",
    "\n",
    "- $g(x)$ is the Probability Distribution Function of the devices' failure doses.\n",
    "- $H(x)$ is the cumulative distribution function of radiation dose from space during the mission period. "
   ]
  },
  {
   "cell_type": "markdown",
   "id": "62f37de5",
   "metadata": {},
   "source": [
    "To estimate $H(x)$, we centered a lognormal distribution in the value of the dose. Then, we calculated its cumulative distributed function. <br> To estimate the variability of the curve as defined in [Wang, Jian-zhao et al.](https://www.sciencedirect.com/science/article/pii/S0026271422002712?casa_token=PbtCHwrwtKwAAAAA:hddUtlxhJM_CC-nUZBuxG2qZ7793olmDjTO7ZyztDxjjsteCl1fxvlh88SjEiRIeGVR430Po4EJW), we used as sample the values reported in the sun-synchronous orbit for 100 mils reported in [Xapsos, M. A., et al.](https://ieeexplore.ieee.org/stamp/stamp.jsp?tp=&arnumber=7563310)."
   ]
  },
  {
   "cell_type": "code",
   "execution_count": null,
   "id": "48bc01df",
   "metadata": {},
   "outputs": [],
   "source": [
    "def generate_lognormal_pdf_and_cdf(x_mean, x_sigma, n_samples):\n",
    "    x=lognormal(x_mean,  x_sigma , size=n_samples)\n",
    "    count, bins_count = np.histogram(x, bins=n_samples)\n",
    "    count_max=np.max(count)\n",
    "    bins_count=bins_count/bins_count[np.where(count==count_max)][0] * x_mean\n",
    "    bins_count=bins_count[1:]\n",
    "        \n",
    "    # finding the PDF of the histogram using count values\n",
    "\n",
    "    # using numpy np.cumsum to calculate the CDF\n",
    "    # We can also find using the PDF values by looping and adding\n",
    "\n",
    "    pdf = count/(sum(count))\n",
    "    cdf_area = np.trapz(pdf, bins_count)\n",
    "    pdf=pdf/cdf_area\n",
    "    cdf=np.zeros_like(pdf)\n",
    "    for n in range(len(cdf)):\n",
    "        cdf[n]=np.trapz(pdf[:n], bins_count[:n])\n",
    "    \n",
    "    return bins_count, cdf, pdf"
   ]
  },
  {
   "cell_type": "code",
   "execution_count": null,
   "id": "680e4cf0",
   "metadata": {},
   "outputs": [],
   "source": [
    "plt.figure(0)\n",
    "bins_count_H, cdf, pdf = generate_lognormal_pdf_and_cdf(dose_krad, 0.15, 10000)\n",
    "H= dict(zip(bins_count_H, cdf))\n",
    "#plt.semilogx(bins_count, pdf, color=\"red\", label=\"PDF\")\n",
    "plt.semilogx(bins_count_H, cdf, label=\"H(dose)\")\n",
    "plt.legend()\n",
    "plt.show()"
   ]
  },
  {
   "cell_type": "markdown",
   "id": "359f8c1b",
   "metadata": {},
   "source": [
    "$g(x)$ shall be specified by the user depending on the target component.  We used a lognormal CDF centered on the average TID value. <br> For this example, we use an unreasonably low TID value (i.e., 0.001 krad) to possibly experiment a failure during the mission in a short time."
   ]
  },
  {
   "cell_type": "code",
   "execution_count": null,
   "id": "8938176b",
   "metadata": {},
   "outputs": [],
   "source": [
    "TID_krad = 0.001\n",
    "bins_count_g, cdf, pdf = generate_lognormal_pdf_and_cdf(TID, TID/2, 10000)\n",
    "g= dict(zip(bins_count_g, pdf))\n",
    "\n",
    "plt.close()\n",
    "plt.figure(1)\n",
    "plt.semilogx(bins_count_g, pdf, color=\"red\", label=\"g(dose)\")\n",
    "plt.legend()\n",
    "plt.show()"
   ]
  },
  {
   "cell_type": "markdown",
   "id": "d3b5f370",
   "metadata": {},
   "source": [
    "Extending $g(dose)$ and $H(dose)$ on a common unified domain."
   ]
  },
  {
   "cell_type": "code",
   "execution_count": null,
   "id": "74577299",
   "metadata": {},
   "outputs": [],
   "source": [
    "unified_domain=np.union1d(bins_count_H, bins_count_g)\n",
    "H_extended=dict(zip(unified_domain, np.zeros_like(unified_domain)))\n",
    "g_extended=dict(zip(unified_domain, np.zeros_like(unified_domain)))\n",
    "\n",
    "for x in bins_count_g:\n",
    "    g_extended[x]=g[x]\n",
    "else:\n",
    "    g_extended[x]=0\n",
    "\n",
    "        \n",
    "for x in bins_count_H:\n",
    "    H_extended[x]=H[x]\n",
    "else:\n",
    "    H_extended[x]=0\n"
   ]
  },
  {
   "cell_type": "markdown",
   "id": "120304f5",
   "metadata": {},
   "source": [
    "We can now generate a constraint function that checks if a failure event happens."
   ]
  },
  {
   "cell_type": "code",
   "execution_count": null,
   "id": "e21c5b2a",
   "metadata": {},
   "outputs": [],
   "source": [
    "# Plot current status of PASEOS and get a plotter\n",
    "plotter = paseos.plot(sim, paseos.PlotType.SpacePlot)\n",
    "    \n",
    "def constraint_func_TID_failure():\n",
    "    dose=sat.get_custom_property(\"total_ionizing_dose\")\n",
    "    \n",
    "    #Finding the closest domain value to the dose\n",
    "    dose_nearest_idx = (np.abs(unified_domain - dose)).argmin()\n",
    "    \n",
    "    #Calculating the probability \n",
    "    y=np.zeros_like(unified_domain)\n",
    "    \n",
    "    for n in range(dose_nearest_idx):\n",
    "        y[n]=(1 - H_extended[unified_domain[n]]) * g_extended[unified_domain[n]]\n",
    "    p=np.trapz(y, unified_domain)\n",
    "    \n",
    "    \n",
    "    #Sampling uniform distribution probability \n",
    "    p_s = np.random.uniform(0, 1.0)\n",
    "    \n",
    "    \n",
    "    if (p_s <= p):\n",
    "        print(\"Detected fault due to TID!\")\n",
    "        print(\"Damage probability: \", p)\n",
    "        print(\"Dose [krad]: \", dose)\n",
    "        print(\"Time:\", sat.local_time)\n",
    "        return False\n",
    "    else:\n",
    "        return True\n"
   ]
  },
  {
   "cell_type": "markdown",
   "id": "fab5abf6",
   "metadata": {},
   "source": [
    "# 5) - Let's test it out"
   ]
  },
  {
   "cell_type": "markdown",
   "id": "2e1b25a2",
   "metadata": {},
   "source": [
    "Let's advance the time of 30 days and check if an interrupt happens."
   ]
  },
  {
   "cell_type": "code",
   "execution_count": null,
   "id": "1246e04f",
   "metadata": {},
   "outputs": [],
   "source": [
    "sim.advance_time(3600 * 24 * 30, 10, constraint_function=constraint_func_TID_failure)"
   ]
  }
 ],
 "metadata": {
  "kernelspec": {
   "display_name": "Python 3 (ipykernel)",
   "language": "python",
   "name": "python3"
  },
  "language_info": {
   "codemirror_mode": {
    "name": "ipython",
    "version": 3
   },
   "file_extension": ".py",
   "mimetype": "text/x-python",
   "name": "python",
   "nbconvert_exporter": "python",
   "pygments_lexer": "ipython3",
   "version": "3.11.4"
  },
  "vscode": {
   "interpreter": {
    "hash": "cec805858b69cacb2b7ad611a1d16c309b9d5c2fd3283013a8f0cd0423ba3fc5"
   }
  }
 },
 "nbformat": 4,
 "nbformat_minor": 5
}
